{
  "nbformat": 4,
  "nbformat_minor": 0,
  "metadata": {
    "colab": {
      "provenance": [],
      "authorship_tag": "ABX9TyPB2h9msbQp35aboA7iMKUz",
      "include_colab_link": true
    },
    "kernelspec": {
      "name": "python3",
      "display_name": "Python 3"
    },
    "language_info": {
      "name": "python"
    }
  },
  "cells": [
    {
      "cell_type": "markdown",
      "metadata": {
        "id": "view-in-github",
        "colab_type": "text"
      },
      "source": [
        "<a href=\"https://colab.research.google.com/github/GuntiBharadwaj/Python/blob/main/lists.ipynb\" target=\"_parent\"><img src=\"https://colab.research.google.com/assets/colab-badge.svg\" alt=\"Open In Colab\"/></a>"
      ]
    },
    {
      "cell_type": "code",
      "execution_count": null,
      "metadata": {
        "colab": {
          "base_uri": "https://localhost:8080/"
        },
        "id": "PL1x8MlnNSmH",
        "outputId": "0a52a70a-3dc3-4c36-8cd0-a08b53891b49"
      },
      "outputs": [
        {
          "output_type": "stream",
          "name": "stdout",
          "text": [
            "4 pratice4 [1j, 'pratice4']\n"
          ]
        }
      ],
      "source": [
        "# list & tuples\n",
        "list=[4,5.5,0+1j,\"pratice4\"]#(int,float,complex,string,boolean)\n",
        "print(list[0],list[3],\n",
        "list[2:5])#list slicing\n"
      ]
    },
    {
      "cell_type": "code",
      "source": [
        "list=[5,6,16,8,11,22,23,24,25,25,4,9]\n",
        "print(list[0:8:4])# skiping list value\n",
        "print(list[2:])"
      ],
      "metadata": {
        "id": "tyZeKgIBQD5J",
        "colab": {
          "base_uri": "https://localhost:8080/"
        },
        "outputId": "a56aa601-01a0-469e-d06e-2c9c7164661c"
      },
      "execution_count": 3,
      "outputs": [
        {
          "output_type": "stream",
          "name": "stdout",
          "text": [
            "[5, 11]\n",
            "[16, 8, 11, 22, 23, 24, 25, 25, 4, 9]\n"
          ]
        }
      ]
    },
    {
      "cell_type": "code",
      "source": [
        "# list methods\n",
        "list.sort()# assending order or sorting the list\n",
        "print(list)"
      ],
      "metadata": {
        "colab": {
          "base_uri": "https://localhost:8080/"
        },
        "id": "_zgKDFvDa2jZ",
        "outputId": "cd4e11ad-5dc1-4b79-c9cc-cba4e25f39e1"
      },
      "execution_count": 6,
      "outputs": [
        {
          "output_type": "stream",
          "name": "stdout",
          "text": [
            "[4, 5, 6, 8, 9, 11, 16, 22, 23, 24, 25, 25]\n"
          ]
        }
      ]
    },
    {
      "cell_type": "code",
      "source": [
        "list.reverse() # reverse the list\n",
        "print(list)"
      ],
      "metadata": {
        "colab": {
          "base_uri": "https://localhost:8080/"
        },
        "id": "f68Wq78fbeQ5",
        "outputId": "108963df-d8b2-437e-e34e-7de52aafa466"
      },
      "execution_count": 9,
      "outputs": [
        {
          "output_type": "stream",
          "name": "stdout",
          "text": [
            "[25, 25, 24, 23, 22, 16, 11, 9, 8, 6, 5, 4]\n"
          ]
        }
      ]
    },
    {
      "cell_type": "code",
      "source": [
        "list.append(59)#adding of a number 59 at the last of the list\n",
        "print(list)"
      ],
      "metadata": {
        "colab": {
          "base_uri": "https://localhost:8080/"
        },
        "id": "cTfPDX4Pbwgc",
        "outputId": "7dc7d3bf-96d6-4e0f-eccd-bf99990a889a"
      },
      "execution_count": 12,
      "outputs": [
        {
          "output_type": "stream",
          "name": "stdout",
          "text": [
            "[25, 25, 24, 23, 22, 16, 11, 9, 8, 6, 5, 4, 59]\n"
          ]
        }
      ]
    },
    {
      "cell_type": "code",
      "source": [
        "list.insert(1,786)#adding the number 786 at the place of 1st place of list\n",
        "print(list)"
      ],
      "metadata": {
        "colab": {
          "base_uri": "https://localhost:8080/"
        },
        "id": "GopBs5kUcAfl",
        "outputId": "4d97f2d8-4c5b-41a9-bb31-376081747dd9"
      },
      "execution_count": 15,
      "outputs": [
        {
          "output_type": "stream",
          "name": "stdout",
          "text": [
            "[25, 786, 8, 8, 25, 24, 23, 22, 16, 11, 9, 8, 6, 5, 4, 59]\n"
          ]
        }
      ]
    },
    {
      "cell_type": "code",
      "source": [
        " list.reverse()\n",
        " print(list)"
      ],
      "metadata": {
        "colab": {
          "base_uri": "https://localhost:8080/"
        },
        "id": "yqwF4x0UcZ1C",
        "outputId": "5f79b2a5-fe09-452b-af1c-6ade9f935db7"
      },
      "execution_count": 16,
      "outputs": [
        {
          "output_type": "stream",
          "name": "stdout",
          "text": [
            "[59, 4, 5, 6, 8, 9, 11, 16, 22, 23, 24, 25, 8, 8, 786, 25]\n"
          ]
        }
      ]
    },
    {
      "cell_type": "code",
      "source": [
        "list.pop()#deleting the last number from the list\n",
        "print(list)"
      ],
      "metadata": {
        "colab": {
          "base_uri": "https://localhost:8080/"
        },
        "id": "rH-taHOccnZI",
        "outputId": "67931f7d-2278-41fe-a0e7-6560e218a065"
      },
      "execution_count": 17,
      "outputs": [
        {
          "output_type": "stream",
          "name": "stdout",
          "text": [
            "[59, 4, 5, 6, 8, 9, 11, 16, 22, 23, 24, 25, 8, 8, 786]\n"
          ]
        }
      ]
    },
    {
      "cell_type": "code",
      "source": [
        "list.pop(5)#delete the 5th number from the list\n",
        "print(list)"
      ],
      "metadata": {
        "colab": {
          "base_uri": "https://localhost:8080/"
        },
        "id": "yJE3Ou_7c8fQ",
        "outputId": "77e4f116-fa4c-4dc6-84fa-aea8eeb96964"
      },
      "execution_count": 18,
      "outputs": [
        {
          "output_type": "stream",
          "name": "stdout",
          "text": [
            "[59, 4, 5, 6, 8, 11, 16, 22, 23, 24, 25, 8, 8, 786]\n"
          ]
        }
      ]
    },
    {
      "cell_type": "code",
      "source": [
        "list.remove(8)#delete the occurence of the number in the list\n",
        "print(list)"
      ],
      "metadata": {
        "colab": {
          "base_uri": "https://localhost:8080/"
        },
        "id": "WK1Gf0W7dQ7C",
        "outputId": "6dd2b42e-2dc7-497f-9d33-4cf7f8facf90"
      },
      "execution_count": 21,
      "outputs": [
        {
          "output_type": "stream",
          "name": "stdout",
          "text": [
            "[59, 4, 5, 6, 11, 16, 22, 23, 24, 25, 8, 8, 786]\n"
          ]
        }
      ]
    }
  ]
}