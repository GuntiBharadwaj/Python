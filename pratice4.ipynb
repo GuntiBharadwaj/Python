{
  "nbformat": 4,
  "nbformat_minor": 0,
  "metadata": {
    "colab": {
      "provenance": [],
      "authorship_tag": "ABX9TyPp7bxP5yAnlpsNztHagksr",
      "include_colab_link": true
    },
    "kernelspec": {
      "name": "python3",
      "display_name": "Python 3"
    },
    "language_info": {
      "name": "python"
    }
  },
  "cells": [
    {
      "cell_type": "markdown",
      "metadata": {
        "id": "view-in-github",
        "colab_type": "text"
      },
      "source": [
        "<a href=\"https://colab.research.google.com/github/GuntiBharadwaj/Python/blob/main/pratice4.ipynb\" target=\"_parent\"><img src=\"https://colab.research.google.com/assets/colab-badge.svg\" alt=\"Open In Colab\"/></a>"
      ]
    },
    {
      "cell_type": "code",
      "execution_count": 3,
      "metadata": {
        "colab": {
          "base_uri": "https://localhost:8080/"
        },
        "id": "OzK3s_UXrgEF",
        "outputId": "18d716e4-bb29-4bbb-df7a-21f7e2abf77f"
      },
      "outputs": [
        {
          "output_type": "stream",
          "name": "stdout",
          "text": [
            "practice 4\n",
            "double quate\n",
            "triple quate\n"
          ]
        }
      ],
      "source": [
        "# strings\n",
        "string='practice 4'#single quate\n",
        "string2=\"double quate\"#double quate\n",
        "string3='''triple quate'''#triple quate or multi commenting\n",
        "print(string)\n",
        "print(string2)\n",
        "print(string3)"
      ]
    },
    {
      "cell_type": "code",
      "source": [
        "# string slicing\n",
        "a='i am bharadwaj'\n",
        "print(a[3])"
      ],
      "metadata": {
        "colab": {
          "base_uri": "https://localhost:8080/"
        },
        "id": "pRKK-MM-r3tU",
        "outputId": "b9d2112b-b1b8-444d-e087-baa4a64e3c8e"
      },
      "execution_count": 6,
      "outputs": [
        {
          "output_type": "stream",
          "name": "stdout",
          "text": [
            "m\n"
          ]
        }
      ]
    },
    {
      "cell_type": "code",
      "source": [
        "print(a[5:])"
      ],
      "metadata": {
        "colab": {
          "base_uri": "https://localhost:8080/"
        },
        "id": "FmuFkv77soEi",
        "outputId": "4d0d9984-2600-40e9-d65d-7b29f673e274"
      },
      "execution_count": 7,
      "outputs": [
        {
          "output_type": "stream",
          "name": "stdout",
          "text": [
            "bharadwaj\n"
          ]
        }
      ]
    },
    {
      "cell_type": "code",
      "source": [
        "print(a[2:6])"
      ],
      "metadata": {
        "colab": {
          "base_uri": "https://localhost:8080/"
        },
        "id": "LvyW8XNNs8DY",
        "outputId": "ea504d65-7939-47b0-e9f5-5d5ed375e7f0"
      },
      "execution_count": 8,
      "outputs": [
        {
          "output_type": "stream",
          "name": "stdout",
          "text": [
            "am b\n"
          ]
        }
      ]
    },
    {
      "cell_type": "code",
      "source": [
        "print(a[-1])"
      ],
      "metadata": {
        "colab": {
          "base_uri": "https://localhost:8080/"
        },
        "id": "ih7XsztVtI64",
        "outputId": "17b3be12-55cc-4675-910f-45d3bb2e6cd2"
      },
      "execution_count": 9,
      "outputs": [
        {
          "output_type": "stream",
          "name": "stdout",
          "text": [
            "j\n"
          ]
        }
      ]
    },
    {
      "cell_type": "code",
      "source": [
        "print(a[-10:-1])"
      ],
      "metadata": {
        "colab": {
          "base_uri": "https://localhost:8080/"
        },
        "id": "ng07Q9rutR4F",
        "outputId": "71e5f88b-32ce-46d4-8330-af30dfe94bbf"
      },
      "execution_count": 16,
      "outputs": [
        {
          "output_type": "stream",
          "name": "stdout",
          "text": [
            " bharadwa\n"
          ]
        }
      ]
    },
    {
      "cell_type": "code",
      "source": [
        "print(len(a))"
      ],
      "metadata": {
        "colab": {
          "base_uri": "https://localhost:8080/"
        },
        "id": "poSqjvEhu5lT",
        "outputId": "bde043fc-36a7-417b-9ac6-8cd9e0a23077"
      },
      "execution_count": 17,
      "outputs": [
        {
          "output_type": "stream",
          "name": "stdout",
          "text": [
            "14\n"
          ]
        }
      ]
    },
    {
      "cell_type": "code",
      "source": [
        "a.count(\"a\")"
      ],
      "metadata": {
        "colab": {
          "base_uri": "https://localhost:8080/"
        },
        "id": "reZi3kKTu9qp",
        "outputId": "ac9ef1a6-df10-4bfc-95b4-1ed168094557"
      },
      "execution_count": 23,
      "outputs": [
        {
          "output_type": "execute_result",
          "data": {
            "text/plain": [
              "4"
            ]
          },
          "metadata": {},
          "execution_count": 23
        }
      ]
    },
    {
      "cell_type": "code",
      "source": [
        "str.capitalize(\"a\")\n",
        "print(str.capitalize(\"a\"))"
      ],
      "metadata": {
        "colab": {
          "base_uri": "https://localhost:8080/"
        },
        "id": "PytB6BwHvO2C",
        "outputId": "369138cc-b896-476c-8aee-a60901a2e3bf"
      },
      "execution_count": 27,
      "outputs": [
        {
          "output_type": "stream",
          "name": "stdout",
          "text": [
            "A\n"
          ]
        }
      ]
    },
    {
      "cell_type": "code",
      "source": [
        "# write a program to print a name given by user and greetings of the day\n",
        "name=input(\"enter your name:\")\n",
        "print(\"Greetings of the day \",name)"
      ],
      "metadata": {
        "colab": {
          "base_uri": "https://localhost:8080/"
        },
        "id": "s3Fmt3Ccv4s0",
        "outputId": "df9f0727-ce7e-4195-fcac-d4150db4a796"
      },
      "execution_count": 28,
      "outputs": [
        {
          "output_type": "stream",
          "name": "stdout",
          "text": [
            "enter your name:bharadwaj\n",
            "Greetings of the day  bharadwaj\n"
          ]
        }
      ]
    },
    {
      "cell_type": "code",
      "source": [
        "print('''\n",
        "dear bharadwaj\n",
        "you are selected\n",
        "date 25|04|2025;''')\n"
      ],
      "metadata": {
        "colab": {
          "base_uri": "https://localhost:8080/"
        },
        "id": "prINe1Kew5SP",
        "outputId": "6a3eef17-d16c-45ed-a866-a4e4763481ed"
      },
      "execution_count": 33,
      "outputs": [
        {
          "output_type": "stream",
          "name": "stdout",
          "text": [
            "\n",
            "dear bharadwaj\n",
            "you are selected\n",
            "date 25|04|2025;\n"
          ]
        }
      ]
    },
    {
      "cell_type": "code",
      "source": [
        "# escape sequence\n",
        "print(\"practice 4\\n iam bharadwaj\\t thank you\")"
      ],
      "metadata": {
        "colab": {
          "base_uri": "https://localhost:8080/"
        },
        "id": "r096bHcZxP77",
        "outputId": "ff4f7f0f-2e27-41a2-edff-78fd0c1af188"
      },
      "execution_count": 35,
      "outputs": [
        {
          "output_type": "stream",
          "name": "stdout",
          "text": [
            "practice 4\n",
            " iam bharadwaj\t thank you\n"
          ]
        }
      ]
    },
    {
      "cell_type": "code",
      "source": [],
      "metadata": {
        "id": "0E-UnbO4x4mm"
      },
      "execution_count": null,
      "outputs": []
    }
  ]
}