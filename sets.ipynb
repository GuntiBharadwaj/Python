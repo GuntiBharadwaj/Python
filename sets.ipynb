{
  "nbformat": 4,
  "nbformat_minor": 0,
  "metadata": {
    "colab": {
      "provenance": [],
      "authorship_tag": "ABX9TyMPsoOeciXNk/NIH6drQh5b",
      "include_colab_link": true
    },
    "kernelspec": {
      "name": "python3",
      "display_name": "Python 3"
    },
    "language_info": {
      "name": "python"
    }
  },
  "cells": [
    {
      "cell_type": "markdown",
      "metadata": {
        "id": "view-in-github",
        "colab_type": "text"
      },
      "source": [
        "<a href=\"https://colab.research.google.com/github/GuntiBharadwaj/Python/blob/main/sets.ipynb\" target=\"_parent\"><img src=\"https://colab.research.google.com/assets/colab-badge.svg\" alt=\"Open In Colab\"/></a>"
      ]
    },
    {
      "cell_type": "code",
      "execution_count": 58,
      "metadata": {
        "id": "zF5ipvJzoG_q"
      },
      "outputs": [],
      "source": [
        "# sets\n",
        "# setf={}\n",
        "# print(type(set))"
      ]
    },
    {
      "cell_type": "code",
      "source": [
        "# set length of set\n",
        "seta={1,2,3,4,5}\n",
        "setb={6,7,8,9,0}\n",
        "print('seta:',seta)\n",
        "print(\"setb:\",setb)\n",
        "print(\"length seta\",len(seta))\n",
        "print(\"length setb:\",len(setb))"
      ],
      "metadata": {
        "colab": {
          "base_uri": "https://localhost:8080/"
        },
        "id": "gIn3QvV9O-eG",
        "outputId": "53de4b18-912c-4bf0-d78d-ea6a66497291"
      },
      "execution_count": 9,
      "outputs": [
        {
          "output_type": "stream",
          "name": "stdout",
          "text": [
            "seta: {1, 2, 3, 4, 5}\n",
            "setb: {0, 6, 7, 8, 9}\n",
            "length seta 5\n",
            "length setb: 5\n"
          ]
        }
      ]
    },
    {
      "cell_type": "code",
      "source": [
        "# to remove and update the set\n",
        "setc=[2,7,0,3,1,8]\n",
        "print(\"before\",setc)\n",
        "setc.remove(0)\n",
        "print(\"after\",setc)"
      ],
      "metadata": {
        "colab": {
          "base_uri": "https://localhost:8080/"
        },
        "id": "qA5g9ZH2P8Y9",
        "outputId": "1dcc0ced-8373-4337-c611-836f55498ebe"
      },
      "execution_count": 25,
      "outputs": [
        {
          "output_type": "stream",
          "name": "stdout",
          "text": [
            "before [2, 7, 0, 3, 1, 8]\n",
            "after [2, 7, 3, 1, 8]\n"
          ]
        }
      ]
    },
    {
      "cell_type": "code",
      "source": [
        "setd={1,4,3}\n",
        "print(\"before\",setd)\n",
        "setd.pop()\n",
        "print(\"after\",setd)"
      ],
      "metadata": {
        "colab": {
          "base_uri": "https://localhost:8080/"
        },
        "id": "Igkj9XT7SD7v",
        "outputId": "46d1c487-2ef0-44b0-a0d9-3853c8c083bc"
      },
      "execution_count": 26,
      "outputs": [
        {
          "output_type": "stream",
          "name": "stdout",
          "text": [
            "before {1, 3, 4}\n",
            "after {3, 4}\n"
          ]
        }
      ]
    },
    {
      "cell_type": "code",
      "source": [
        "# to clear the set\n",
        "sete={1,2,3,4,5,6,7,8,9}\n",
        "print(\"before\",sete)\n",
        "sete.clear()\n",
        "print(\"after\",sete)"
      ],
      "metadata": {
        "colab": {
          "base_uri": "https://localhost:8080/"
        },
        "id": "osndSQz0S55a",
        "outputId": "4bec252c-3bbb-4c86-9793-4a04ca120b45"
      },
      "execution_count": 27,
      "outputs": [
        {
          "output_type": "stream",
          "name": "stdout",
          "text": [
            "before {1, 2, 3, 4, 5, 6, 7, 8, 9}\n",
            "after set()\n"
          ]
        }
      ]
    },
    {
      "cell_type": "code",
      "source": [
        "print(\"seta:\",seta,\"\\n\",\"setb:\",setb)"
      ],
      "metadata": {
        "colab": {
          "base_uri": "https://localhost:8080/"
        },
        "id": "N2Jm_zpGT2wQ",
        "outputId": "f32cab5b-5517-4f3b-f48d-1a917785c55f"
      },
      "execution_count": 30,
      "outputs": [
        {
          "output_type": "stream",
          "name": "stdout",
          "text": [
            "seta: {1, 2, 3, 4, 5} \n",
            " setb: {0, 6, 7, 8, 9}\n"
          ]
        }
      ]
    },
    {
      "cell_type": "code",
      "source": [],
      "metadata": {
        "id": "E4LGZ5rOUJlL"
      },
      "execution_count": 59,
      "outputs": []
    }
  ]
}