{
  "nbformat": 4,
  "nbformat_minor": 0,
  "metadata": {
    "colab": {
      "provenance": [],
      "authorship_tag": "ABX9TyNfs+qqk5WIl0j2zPD0C30b",
      "include_colab_link": true
    },
    "kernelspec": {
      "name": "python3",
      "display_name": "Python 3"
    },
    "language_info": {
      "name": "python"
    }
  },
  "cells": [
    {
      "cell_type": "markdown",
      "metadata": {
        "id": "view-in-github",
        "colab_type": "text"
      },
      "source": [
        "<a href=\"https://colab.research.google.com/github/GuntiBharadwaj/Python/blob/main/dictionary.ipynb\" target=\"_parent\"><img src=\"https://colab.research.google.com/assets/colab-badge.svg\" alt=\"Open In Colab\"/></a>"
      ]
    },
    {
      "cell_type": "code",
      "execution_count": 18,
      "metadata": {
        "colab": {
          "base_uri": "https://localhost:8080/"
        },
        "id": "J2B4X_tPxScP",
        "outputId": "7d19fc59-3389-4b50-98a6-8c2808297d82"
      },
      "outputs": [
        {
          "output_type": "stream",
          "name": "stdout",
          "text": [
            "{'key': 'value', 'parctice': '5'}\n"
          ]
        }
      ],
      "source": [
        "#  dictionaries\n",
        "dictionary={\"key\":\"value\",\n",
        "            \"parctice\":\"5\"}\n",
        "print(dictionary)"
      ]
    },
    {
      "cell_type": "code",
      "source": [
        "# methods\n",
        "# items\n",
        "print(dictionary.items()) #it shows the items in the dictionary"
      ],
      "metadata": {
        "colab": {
          "base_uri": "https://localhost:8080/"
        },
        "id": "eBD9NAigiuYD",
        "outputId": "83c4a23a-2266-4983-f134-737fae5bc5fa"
      },
      "execution_count": 19,
      "outputs": [
        {
          "output_type": "stream",
          "name": "stdout",
          "text": [
            "dict_items([('key', 'value'), ('parctice', '5')])\n"
          ]
        }
      ]
    },
    {
      "cell_type": "code",
      "source": [
        "# keys\n",
        "print(dictionary.keys())# it show the keys present in the dictionary"
      ],
      "metadata": {
        "colab": {
          "base_uri": "https://localhost:8080/"
        },
        "id": "kkKn46yKjney",
        "outputId": "3f0d08a2-e9d1-444f-a776-cd886ba979e4"
      },
      "execution_count": 20,
      "outputs": [
        {
          "output_type": "stream",
          "name": "stdout",
          "text": [
            "dict_keys(['key', 'parctice'])\n"
          ]
        }
      ]
    },
    {
      "cell_type": "code",
      "source": [
        "# update & remove\n",
        "dictionary.update({\"date\":\"27/04/2025\"})# up date the dictionary with the new key and value\n",
        "print(dictionary)"
      ],
      "metadata": {
        "colab": {
          "base_uri": "https://localhost:8080/"
        },
        "id": "94sgOpamjw9U",
        "outputId": "1990b966-55a0-4abf-b6a2-3dba45dd6d0a"
      },
      "execution_count": 21,
      "outputs": [
        {
          "output_type": "stream",
          "name": "stdout",
          "text": [
            "{'key': 'value', 'parctice': '5', 'date': '27/04/2025'}\n"
          ]
        }
      ]
    },
    {
      "cell_type": "code",
      "source": [
        "#remove\n",
        "dictionary.pop(\"key\")# remove the key and entered key value\n",
        "print(dictionary)"
      ],
      "metadata": {
        "colab": {
          "base_uri": "https://localhost:8080/"
        },
        "id": "RUP3wiHokJQu",
        "outputId": "a4e37626-d966-4faf-e892-8635fb979626"
      },
      "execution_count": 22,
      "outputs": [
        {
          "output_type": "stream",
          "name": "stdout",
          "text": [
            "{'parctice': '5', 'date': '27/04/2025'}\n"
          ]
        }
      ]
    },
    {
      "cell_type": "code",
      "source": [
        "dictionary.popitem() # Assuming you want to remove and return an arbitrary key-value pair\n",
        "print(dictionary)"
      ],
      "metadata": {
        "colab": {
          "base_uri": "https://localhost:8080/"
        },
        "id": "AKol44UNmEct",
        "outputId": "ec470861-d83a-4e76-8e5a-8a0af8a562a6"
      },
      "execution_count": 25,
      "outputs": [
        {
          "output_type": "stream",
          "name": "stdout",
          "text": [
            "{'parctice': '5'}\n"
          ]
        }
      ]
    },
    {
      "cell_type": "code",
      "source": [
        "# get\n",
        "print(dictionary.get(\"practice\"))# get the value of the key given"
      ],
      "metadata": {
        "colab": {
          "base_uri": "https://localhost:8080/"
        },
        "id": "Vcb2yvGDk51n",
        "outputId": "6e6cd474-70c3-41d3-c4c2-395e1f7c4b37"
      },
      "execution_count": 28,
      "outputs": [
        {
          "output_type": "stream",
          "name": "stdout",
          "text": [
            "None\n"
          ]
        }
      ]
    },
    {
      "cell_type": "code",
      "source": [
        "# clear\n",
        "dictionary.clear()# it clear the values in the dictionary\n",
        "print(dictionary)"
      ],
      "metadata": {
        "colab": {
          "base_uri": "https://localhost:8080/"
        },
        "id": "LorbbcMfmgGH",
        "outputId": "1566c302-8c76-44dc-db83-ca48282cf840"
      },
      "execution_count": 27,
      "outputs": [
        {
          "output_type": "stream",
          "name": "stdout",
          "text": [
            "{}\n"
          ]
        }
      ]
    }
  ]
}