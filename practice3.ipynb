{
  "nbformat": 4,
  "nbformat_minor": 0,
  "metadata": {
    "colab": {
      "provenance": [],
      "authorship_tag": "ABX9TyN8uHfJ9+Go6UcqTcWGMPzT",
      "include_colab_link": true
    },
    "kernelspec": {
      "name": "python3",
      "display_name": "Python 3"
    },
    "language_info": {
      "name": "python"
    }
  },
  "cells": [
    {
      "cell_type": "markdown",
      "metadata": {
        "id": "view-in-github",
        "colab_type": "text"
      },
      "source": [
        "<a href=\"https://colab.research.google.com/github/GuntiBharadwaj/Python/blob/main/practice3.ipynb\" target=\"_parent\"><img src=\"https://colab.research.google.com/assets/colab-badge.svg\" alt=\"Open In Colab\"/></a>"
      ]
    },
    {
      "cell_type": "code",
      "execution_count": 1,
      "metadata": {
        "colab": {
          "base_uri": "https://localhost:8080/"
        },
        "id": "kwnODrVVgzJd",
        "outputId": "b2f2449f-1048-4659-bace-5015e9c94a82"
      },
      "outputs": [
        {
          "output_type": "stream",
          "name": "stdout",
          "text": [
            "enter the value of a:5\n",
            "enter the value of b:6\n",
            "11 add\n",
            "-1 sub\n",
            "30 mul\n",
            "5 divr\n",
            "0.8333333333333334 divq\n"
          ]
        }
      ],
      "source": [
        "# arthmatic operations\n",
        "a=int(input(\"enter the value of a:\"))\n",
        "b=int(input(\"enter the value of b:\"))\n",
        "add=a+b\n",
        "sub=a-b\n",
        "mul=a*b\n",
        "divr=a%b\n",
        "divq=a/b\n",
        "print(add,'add')\n",
        "print(sub,'sub')\n",
        "print(mul,'mul')\n",
        "print(divr,'divr')\n",
        "print(divq,'divq')"
      ]
    },
    {
      "cell_type": "code",
      "source": [
        "# write a program to divide a number to find remainder\n",
        "a=int(input(\"enter the value of a:\"))\n",
        "b=int(input(\"enter the value of b:\"))\n",
        "c=a%b\n",
        "print(\"c:\",c)"
      ],
      "metadata": {
        "colab": {
          "base_uri": "https://localhost:8080/"
        },
        "id": "eROP52kGjM9s",
        "outputId": "6e5e3dbb-4978-4558-f431-cfc3a76e6f9b"
      },
      "execution_count": 9,
      "outputs": [
        {
          "output_type": "stream",
          "name": "stdout",
          "text": [
            "enter the value of a:4\n",
            "enter the value of b:2\n",
            "c: 0\n"
          ]
        }
      ]
    },
    {
      "cell_type": "code",
      "source": [
        "# write a program to divide a number to find quatient\n",
        "a=int(input(\"enter the value of a:\"))\n",
        "b=int(input(\"enter the value of b:\"))\n",
        "c=a/b\n",
        "print(\"c:\",c)"
      ],
      "metadata": {
        "colab": {
          "base_uri": "https://localhost:8080/"
        },
        "id": "tnmf2jdPkOge",
        "outputId": "75a8153d-9928-42ad-f6f2-cc9b05d05e00"
      },
      "execution_count": 11,
      "outputs": [
        {
          "output_type": "stream",
          "name": "stdout",
          "text": [
            "enter the value of a:9\n",
            "enter the value of b:3\n",
            "c: 3.0\n"
          ]
        }
      ]
    },
    {
      "cell_type": "code",
      "source": [
        "# check the type of the number\n",
        "a=5\n",
        "b=6.5\n",
        "c=5+6j\n",
        "d='practice 3'\n",
        "e=True\n",
        "print('type(a):',type(a))\n",
        "print('type(b):',type(b))\n",
        "print('type(c):',type(c))\n",
        "print('type(d):',type(d))\n",
        "print('type(e):',type(e))"
      ],
      "metadata": {
        "colab": {
          "base_uri": "https://localhost:8080/"
        },
        "id": "tX8zVJuDkryO",
        "outputId": "4e26c232-6173-40fb-e3bf-89c53c4b0dfd"
      },
      "execution_count": 13,
      "outputs": [
        {
          "output_type": "stream",
          "name": "stdout",
          "text": [
            "type(a): <class 'int'>\n",
            "type(b): <class 'float'>\n",
            "type(c): <class 'complex'>\n",
            "type(d): <class 'str'>\n",
            "type(e): <class 'bool'>\n"
          ]
        }
      ]
    },
    {
      "cell_type": "code",
      "source": [
        "# compare the numbers\n",
        "a=int(input(\"enter the value of a:\"))\n",
        "b=int(input(\"enter the value of b:\"))\n",
        "print('a<b:',a<b)#a is less than b\n",
        "print('a>b:',a>b)#a is greater than b\n",
        "print('a==b:',a==b)#a is equal to b\n",
        "print('a<=b:',a<=b)\n",
        "print('a>=b:',a>=b)"
      ],
      "metadata": {
        "colab": {
          "base_uri": "https://localhost:8080/"
        },
        "id": "w84KL3Cmhc_C",
        "outputId": "23d3689b-1ea1-43ba-b336-f466b6a4a431"
      },
      "execution_count": 14,
      "outputs": [
        {
          "output_type": "stream",
          "name": "stdout",
          "text": [
            "enter the value of a:6\n",
            "enter the value of b:5\n",
            "a<b: False\n",
            "a>b: True\n",
            "a==b: False\n",
            "a<=b: False\n",
            "a>=b: True\n"
          ]
        }
      ]
    },
    {
      "cell_type": "code",
      "source": [
        "# write a program to find the squared of a number\n",
        "a=int(input(\"enter the number:\"))\n",
        "squared=a*a\n",
        "print(\"sqared:\",squared)"
      ],
      "metadata": {
        "colab": {
          "base_uri": "https://localhost:8080/"
        },
        "id": "yNI7U8aLoRti",
        "outputId": "8a3f2de7-2a04-4386-c3c2-aa2c021e97e2"
      },
      "execution_count": 19,
      "outputs": [
        {
          "output_type": "stream",
          "name": "stdout",
          "text": [
            "enter the number:5\n",
            "sqared: 25\n"
          ]
        }
      ]
    }
  ]
}