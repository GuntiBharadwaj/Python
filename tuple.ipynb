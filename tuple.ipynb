{
  "nbformat": 4,
  "nbformat_minor": 0,
  "metadata": {
    "colab": {
      "provenance": [],
      "authorship_tag": "ABX9TyM3IER5jQSQDfIqvsd9x0kt",
      "include_colab_link": true
    },
    "kernelspec": {
      "name": "python3",
      "display_name": "Python 3"
    },
    "language_info": {
      "name": "python"
    }
  },
  "cells": [
    {
      "cell_type": "markdown",
      "metadata": {
        "id": "view-in-github",
        "colab_type": "text"
      },
      "source": [
        "<a href=\"https://colab.research.google.com/github/GuntiBharadwaj/Python/blob/main/tuple.ipynb\" target=\"_parent\"><img src=\"https://colab.research.google.com/assets/colab-badge.svg\" alt=\"Open In Colab\"/></a>"
      ]
    },
    {
      "cell_type": "code",
      "execution_count": 2,
      "metadata": {
        "colab": {
          "base_uri": "https://localhost:8080/"
        },
        "id": "GmWT9CpJeRID",
        "outputId": "ed13096e-0e35-490c-e0b0-06a144bc0961"
      },
      "outputs": [
        {
          "output_type": "stream",
          "name": "stdout",
          "text": [
            "()\n",
            "<class 'tuple'>\n"
          ]
        }
      ],
      "source": [
        "#tuple\n",
        "tuple=()#empty tuple\n",
        "print(tuple)\n",
        "print(type(tuple))"
      ]
    },
    {
      "cell_type": "code",
      "source": [
        "tuple=(1,2,3,4,5,6,7,8,9)#tuple with more than one value\n",
        "print(tuple)\n",
        "print(type(tuple))"
      ],
      "metadata": {
        "colab": {
          "base_uri": "https://localhost:8080/"
        },
        "id": "KfZt8FJ0iQMl",
        "outputId": "f771f533-a95f-4243-87b2-932a1bc1947c"
      },
      "execution_count": 4,
      "outputs": [
        {
          "output_type": "stream",
          "name": "stdout",
          "text": [
            "(1, 2, 3, 4, 5, 6, 7, 8, 9)\n",
            "<class 'tuple'>\n"
          ]
        }
      ]
    },
    {
      "cell_type": "code",
      "source": [
        "tuplesinglevalue=(4,)# tuple with one value (',' is used to show tha the value is in the form of tuple)\n",
        "tuplel=(5)#error tuple representation\n",
        "print(type(tuplesinglevalue),tuplesinglevalue)\n",
        "print(type(tuplel),tuplel)"
      ],
      "metadata": {
        "colab": {
          "base_uri": "https://localhost:8080/"
        },
        "id": "vB93McIriiFx",
        "outputId": "b9ffb0d0-eb37-4a38-8a2d-a91570bca4d5"
      },
      "execution_count": 10,
      "outputs": [
        {
          "output_type": "stream",
          "name": "stdout",
          "text": [
            "<class 'tuple'> (4,)\n",
            "<class 'int'> 5\n"
          ]
        }
      ]
    },
    {
      "cell_type": "code",
      "source": [
        "# methods of tuples\n",
        "a=(8,5,9,5,7,6,4,9,8,2,5)\n",
        "a.count(5)#count method"
      ],
      "metadata": {
        "colab": {
          "base_uri": "https://localhost:8080/"
        },
        "id": "kyI7R7e5jxvG",
        "outputId": "46bbee13-96fe-4f24-c65e-ca34607d4e83"
      },
      "execution_count": 14,
      "outputs": [
        {
          "output_type": "execute_result",
          "data": {
            "text/plain": [
              "3"
            ]
          },
          "metadata": {},
          "execution_count": 14
        }
      ]
    },
    {
      "cell_type": "code",
      "source": [
        "a.index(5)#index method"
      ],
      "metadata": {
        "colab": {
          "base_uri": "https://localhost:8080/"
        },
        "id": "AI1Qxj9dkMks",
        "outputId": "43dec7e7-8045-441b-b6b9-921ab8858b4b"
      },
      "execution_count": 15,
      "outputs": [
        {
          "output_type": "execute_result",
          "data": {
            "text/plain": [
              "1"
            ]
          },
          "metadata": {},
          "execution_count": 15
        }
      ]
    }
  ]
}