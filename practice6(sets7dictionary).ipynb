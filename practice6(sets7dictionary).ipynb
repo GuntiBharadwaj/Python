{
  "nbformat": 4,
  "nbformat_minor": 0,
  "metadata": {
    "colab": {
      "provenance": [],
      "authorship_tag": "ABX9TyNmxe5x7gddYzMZXFBymWHO",
      "include_colab_link": true
    },
    "kernelspec": {
      "name": "python3",
      "display_name": "Python 3"
    },
    "language_info": {
      "name": "python"
    }
  },
  "cells": [
    {
      "cell_type": "markdown",
      "metadata": {
        "id": "view-in-github",
        "colab_type": "text"
      },
      "source": [
        "<a href=\"https://colab.research.google.com/github/GuntiBharadwaj/Python/blob/main/practice6(sets7dictionary).ipynb\" target=\"_parent\"><img src=\"https://colab.research.google.com/assets/colab-badge.svg\" alt=\"Open In Colab\"/></a>"
      ]
    },
    {
      "cell_type": "code",
      "execution_count": null,
      "metadata": {
        "colab": {
          "base_uri": "https://localhost:8080/"
        },
        "id": "0eMB1x01wqv3",
        "outputId": "93a08883-5df4-40f6-dc77-8400f3bfde71"
      },
      "outputs": [
        {
          "output_type": "stream",
          "name": "stdout",
          "text": [
            "enter the word in the library:\n",
            "Duty\n",
            "the word meaning: బాధ్యత (Bādhyata)\n"
          ]
        }
      ],
      "source": [
        "# create a dictionary for english to telugu meanings\n",
        "word=input(\"enter the word in the library:\\n\")\n",
        "eng_tel={\n",
        "    \"English\":\t\"Telugu\",\n",
        "    \"Love\": \"ప్రేమ (Prema)\",\n",
        "    \"Friendship\": \"స్నేహం (Sneham)\",\n",
        "    \"Happiness\": \"ఆనందం (Ānandaṁ)\",\n",
        "    \"Knowledge\": \"జ్ఞానం (Jñānaṁ)\",\n",
        "    \"Respect\": \"గౌరవం (Gauravaṁ)\",\n",
        "    \"Truth\": \"నిజం (Nijaṁ)\",\n",
        "    \"Peace\": \"శాంతి (Śānti)\",\n",
        "    \"Duty\": \"బాధ్యత (Bādhyata)\",\n",
        "    \"Honesty\": \"నిజాయితీ (Nijāyitī)\",\n",
        "    \"Responsibility\": \"బాధ్యత (Bādhyata)\"\n",
        "      }\n",
        "if (eng_tel.get(word)== None):\n",
        "  print(\"the above value not valid\")\n",
        "else:\n",
        "  # translation=eng_tel.get(word)\n",
        "  print(\"the word meaning:\",eng_tel.get(word))"
      ]
    },
    {
      "cell_type": "code",
      "source": [
        "# q2.write a program to get the input by user and display all the unique number\n",
        "s=set()\n",
        "s.add(input(\"enter the number:\"))\n",
        "s.add(input(\"enter the number:\"))\n",
        "s.add(input(\"enter the number:\"))\n",
        "s.add(input(\"enter the number:\"))\n",
        "s.add(input(\"enter the number:\"))\n",
        "s.add(input(\"enter the number:\"))\n",
        "s.add(input(\"enter the number:\"))\n",
        "s.add(input(\"enter the number:\"))\n",
        "s.add(input(\"enter the number:\"))\n",
        "s.add(input(\"enter the number:\"))\n",
        "print(s)"
      ],
      "metadata": {
        "colab": {
          "base_uri": "https://localhost:8080/"
        },
        "id": "9j74q26RelwB",
        "outputId": "b01d4e6b-5e69-4780-fa19-c7d9d2be6509"
      },
      "execution_count": null,
      "outputs": [
        {
          "output_type": "stream",
          "name": "stdout",
          "text": [
            "enter the number:1\n",
            "enter the number:\n",
            "enter the number:1\n",
            "enter the number:2\n",
            "enter the number:1\n",
            "enter the number:2\n",
            "enter the number:1\n",
            "enter the number:2\n",
            "enter the number:1\n",
            "enter the number:2\n",
            "{'', '2', '1'}\n"
          ]
        }
      ]
    },
    {
      "cell_type": "code",
      "source": [
        "# 18 as int & 18 as str\n",
        "s=set()\n",
        "s.add('18')\n",
        "s.add(18)\n",
        "print(s)"
      ],
      "metadata": {
        "colab": {
          "base_uri": "https://localhost:8080/"
        },
        "id": "b1lv83cKk31T",
        "outputId": "4ce6923a-f1c5-4a7c-d397-1bc3798e964c"
      },
      "execution_count": null,
      "outputs": [
        {
          "output_type": "stream",
          "name": "stdout",
          "text": [
            "{18, '18'}\n"
          ]
        }
      ]
    },
    {
      "cell_type": "code",
      "source": [
        "# what will be the length of the s\n",
        "# s=20\n",
        "# s=20.0\n",
        "# s='20'\n",
        "s=set()\n",
        "s.add(20)\n",
        "s.add('20')\n",
        "s.add(20.0)\n",
        "print(\"lenght of s after the 3 operations\",len(s))\n",
        "print(s)# the value of 20 & 20.0 are same so the compiler will print the one time"
      ],
      "metadata": {
        "colab": {
          "base_uri": "https://localhost:8080/"
        },
        "id": "anvI-K2wlRuw",
        "outputId": "650df1c4-67a2-4b83-b3a5-45afed868b01"
      },
      "execution_count": null,
      "outputs": [
        {
          "output_type": "stream",
          "name": "stdout",
          "text": [
            "lenght of s after the 3 operations 2\n",
            "{20, '20'}\n"
          ]
        }
      ]
    },
    {
      "cell_type": "code",
      "source": [
        "# create an empty dictionary ,allow 4 friends to enter therir names as key and language as value\n",
        "a={}\n",
        "for i in range(4):\n",
        "    key=input(\"enter the key :\")\n",
        "    value=input(\"enter the value:\")\n",
        "    a.update({key:value})\n",
        "print(\"a:\",a)"
      ],
      "metadata": {
        "id": "QGTeZCpomKsP",
        "colab": {
          "base_uri": "https://localhost:8080/"
        },
        "outputId": "241f93e3-427f-4b21-a82d-0148893e9d84"
      },
      "execution_count": 7,
      "outputs": [
        {
          "output_type": "stream",
          "name": "stdout",
          "text": [
            "enter the key :bharath\n",
            "enter the value:english\n",
            "enter the key :supraja\n",
            "enter the value:python\n",
            "enter the key :kavya\n",
            "enter the value:java\n",
            "enter the key :yeswanth\n",
            "enter the value:verilog\n",
            "a: {'bharath': 'english', 'supraja': 'python', 'kavya': 'java', 'yeswanth': 'verilog'}\n"
          ]
        }
      ]
    },
    {
      "cell_type": "code",
      "source": [
        "# create an empty dictionary ,allow 4 friends to enter therir names as key and language as value\n",
        "a={}\n",
        "for i in range(4):\n",
        "    key=input(\"enter the key :\")\n",
        "    value=input(\"enter the value:\")\n",
        "    a.update({key:value})\n",
        "print(\"a:\",a)# if the same name entered 2 times the it takes the value the last updated value\n",
        "#if the value was same & key was different then it shows the 2 values and keys as entered"
      ],
      "metadata": {
        "colab": {
          "base_uri": "https://localhost:8080/"
        },
        "id": "e_oxU8DSiMFj",
        "outputId": "da817e0b-f2fb-41a2-a949-29f5a8e86fef"
      },
      "execution_count": 8,
      "outputs": [
        {
          "output_type": "stream",
          "name": "stdout",
          "text": [
            "enter the key :bharath\n",
            "enter the value:verilog\n",
            "enter the key :bharath\n",
            "enter the value:python\n",
            "enter the key :supraja\n",
            "enter the value:python\n",
            "enter the key :yeswanth\n",
            "enter the value:java\n",
            "a: {'bharath': 'python', 'supraja': 'python', 'yeswanth': 'java'}\n"
          ]
        }
      ]
    },
    {
      "cell_type": "code",
      "source": [],
      "metadata": {
        "id": "yG95b4_7i2JP"
      },
      "execution_count": null,
      "outputs": []
    }
  ]
}