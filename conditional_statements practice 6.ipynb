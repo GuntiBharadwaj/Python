{
  "nbformat": 4,
  "nbformat_minor": 0,
  "metadata": {
    "colab": {
      "provenance": [],
      "authorship_tag": "ABX9TyOAXnfsFuuC3KVMYZ99r1N4",
      "include_colab_link": true
    },
    "kernelspec": {
      "name": "python3",
      "display_name": "Python 3"
    },
    "language_info": {
      "name": "python"
    }
  },
  "cells": [
    {
      "cell_type": "markdown",
      "metadata": {
        "id": "view-in-github",
        "colab_type": "text"
      },
      "source": [
        "<a href=\"https://colab.research.google.com/github/GuntiBharadwaj/Python/blob/main/conditional_statements%20practice%206.ipynb\" target=\"_parent\"><img src=\"https://colab.research.google.com/assets/colab-badge.svg\" alt=\"Open In Colab\"/></a>"
      ]
    },
    {
      "cell_type": "code",
      "execution_count": 5,
      "metadata": {
        "colab": {
          "base_uri": "https://localhost:8080/"
        },
        "id": "ilqyhpIekirL",
        "outputId": "51be70ae-dd05-4e08-b230-b9b62c186233"
      },
      "outputs": [
        {
          "output_type": "stream",
          "name": "stdout",
          "text": [
            "enter the input:condition\n",
            "may be\n"
          ]
        }
      ],
      "source": [
        "# if condition syntax\n",
        "a=input(\"enter the input:\")\n",
        "if (a == \"condition 1\"):\n",
        "  print(\"yes\")\n",
        "elif (a == \"condition 2\"):\n",
        "  print(\"no\")\n",
        "else:\n",
        "  print(\"may be\")"
      ]
    },
    {
      "cell_type": "code",
      "source": [
        "# to check the age to get vote right\n",
        "age=int(input(\"enter the age:\"))\n",
        "if(age>=18):\n",
        "  print(\"you are eligible to vote!\")\n",
        "elif(age<18):\n",
        "  print(\"you are not eligible to vote!\")\n",
        "else:\n",
        "  print(\"invalide!\")"
      ],
      "metadata": {
        "colab": {
          "base_uri": "https://localhost:8080/"
        },
        "id": "Ir7pechAmG5-",
        "outputId": "b86f5242-7a53-4edf-c905-cbd779098302"
      },
      "execution_count": 7,
      "outputs": [
        {
          "output_type": "stream",
          "name": "stdout",
          "text": [
            "enter the age:10\n",
            "you are not eligible to vote!\n"
          ]
        }
      ]
    },
    {
      "cell_type": "code",
      "source": [
        "# check the greatest of the entered numbers\n",
        "a=int(input(\"enter the number 1:\"))\n",
        "b=int(input(\"enter the number 2:\"))\n",
        "c=int(input(\"enter the number 3:\"))\n",
        "d=int(input(\"enter the number 4:\"))\n",
        "if(a>b and a>c and a>d):\n",
        "  print(\"a is greater one\")\n",
        "elif(b>a and b>c and b>d):\n",
        "  print(\"b is greater one\")\n",
        "elif(d>a and d>c and d>b):\n",
        "  print(\"d is greater one\")\n",
        "elif(c>a and c>b and c>d):\n",
        "  print(\"c is greater one\")\n",
        "else:\n",
        "  print(\"all are equal\")"
      ],
      "metadata": {
        "colab": {
          "base_uri": "https://localhost:8080/"
        },
        "id": "5OhJs0Z9rVXX",
        "outputId": "828894d0-56f0-415f-e0d6-0deafbcd68bc"
      },
      "execution_count": 9,
      "outputs": [
        {
          "output_type": "stream",
          "name": "stdout",
          "text": [
            "enter the number 1:5\n",
            "enter the number 2:5\n",
            "enter the number 3:5\n",
            "enter the number 4:5\n",
            "all are equal\n"
          ]
        }
      ]
    },
    {
      "cell_type": "code",
      "source": [
        "# to find the resut of a student\n",
        "a=int(input(\"ente the marks of sub 1:\"))\n",
        "b=int(input(\"ente the marks of sub 2:\"))\n",
        "c=int(input(\"ente the marks of sub 3:\"))\n",
        "d=int(input(\"ente the marks of sub 4:\"))\n",
        "if (a>33 and b>33 and c>33 and d>33):\n",
        "  print(\"pass\")\n",
        "else:\n",
        "  print('fail')"
      ],
      "metadata": {
        "colab": {
          "base_uri": "https://localhost:8080/"
        },
        "id": "G2K1jYfTs-i3",
        "outputId": "7b3a2416-28d4-4159-cd53-5e25ee47ff94"
      },
      "execution_count": 11,
      "outputs": [
        {
          "output_type": "stream",
          "name": "stdout",
          "text": [
            "ente the marks of sub 1:35\n",
            "ente the marks of sub 2:60\n",
            "ente the marks of sub 3:40\n",
            "ente the marks of sub 4:38\n",
            "pass\n"
          ]
        }
      ]
    },
    {
      "cell_type": "code",
      "source": [
        "# to the length of the name entered\n",
        "name=input(\"enter the name:\")\n",
        "if (len(name)==10):\n",
        "  print(\"name having 10 chaaracters!\")\n",
        "elif (len(name) <10):\n",
        "  print(\"name having less thaan 10 characters!\")\n",
        "elif (len(name)>10):\n",
        "  print(\"name having more than 10 characters!\")\n",
        "else :\n",
        "  print(\"not valid\")\n",
        "print(\"length of name:\",len(name))"
      ],
      "metadata": {
        "colab": {
          "base_uri": "https://localhost:8080/"
        },
        "id": "mRfihRdqv6dB",
        "outputId": "7366be66-b0c6-4a02-ac28-f61d0ba3ea61"
      },
      "execution_count": 15,
      "outputs": [
        {
          "output_type": "stream",
          "name": "stdout",
          "text": [
            "enter the name:bharadwaj\n",
            "name having less thaan 10 characters!\n",
            "length of name: 9\n"
          ]
        }
      ]
    },
    {
      "cell_type": "code",
      "source": [
        "# to check the entered name if present in the list or not\n",
        "lists=['bharath','supraja','bunny','kayva','yeswanth']\n",
        "a=input(\"enter the name:\")\n",
        "if (a in lists):\n",
        "  print(\"the name is present in the list\")\n",
        "else:\n",
        "  print(\"the name is not present in the list\")\n",
        "# print(lists)"
      ],
      "metadata": {
        "colab": {
          "base_uri": "https://localhost:8080/"
        },
        "id": "nmeW72Yz0sug",
        "outputId": "db357658-40e0-41cf-a6bc-239cdd3c8116"
      },
      "execution_count": 21,
      "outputs": [
        {
          "output_type": "stream",
          "name": "stdout",
          "text": [
            "enter the name:bharath\n",
            "the name is present in the list\n",
            "['bharath', 'supraja', 'bunny', 'kayva', 'yeswanth']\n"
          ]
        }
      ]
    },
    {
      "cell_type": "code",
      "source": [
        "# to find the grade of the students as per their marks\n",
        "marks=int(input(\"enter the marks:\"))\n",
        "if(marks >= 90):\n",
        "  print(\"excellent!\")\n",
        "elif(marks >= 80):\n",
        "  print(\"grade A\")\n",
        "elif(marks >= 70):\n",
        "  print(\"grade B\")\n",
        "elif(marks >= 60):\n",
        "  print(\"grade C\")\n",
        "elif(marks >= 50):\n",
        "  print(\"grade D\")\n",
        "elif(marks < 80):\n",
        "  print(\"grade F\")"
      ],
      "metadata": {
        "colab": {
          "base_uri": "https://localhost:8080/"
        },
        "id": "Mf9lybEo3wWk",
        "outputId": "af3e917b-eba6-4183-bf31-470123b0bc4b"
      },
      "execution_count": 23,
      "outputs": [
        {
          "output_type": "stream",
          "name": "stdout",
          "text": [
            "enter the marks:68\n",
            "grade C\n"
          ]
        }
      ]
    }
  ]
}