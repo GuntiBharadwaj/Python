{
  "nbformat": 4,
  "nbformat_minor": 0,
  "metadata": {
    "colab": {
      "provenance": [],
      "authorship_tag": "ABX9TyNLVSwRLrgbw93MvbXY3t1Y",
      "include_colab_link": true
    },
    "kernelspec": {
      "name": "python3",
      "display_name": "Python 3"
    },
    "language_info": {
      "name": "python"
    }
  },
  "cells": [
    {
      "cell_type": "markdown",
      "metadata": {
        "id": "view-in-github",
        "colab_type": "text"
      },
      "source": [
        "<a href=\"https://colab.research.google.com/github/GuntiBharadwaj/Python/blob/main/day_1.ipynb\" target=\"_parent\"><img src=\"https://colab.research.google.com/assets/colab-badge.svg\" alt=\"Open In Colab\"/></a>"
      ]
    },
    {
      "cell_type": "code",
      "execution_count": 1,
      "metadata": {
        "colab": {
          "base_uri": "https://localhost:8080/"
        },
        "id": "n7zyAVZmrCbs",
        "outputId": "5019b452-07e7-4e3b-f6d9-1572173be42c"
      },
      "outputs": [
        {
          "output_type": "stream",
          "name": "stdout",
          "text": [
            "day 1\n"
          ]
        }
      ],
      "source": [
        "# print statement\n",
        "print(\"day 1\")"
      ]
    },
    {
      "cell_type": "code",
      "source": [
        "# comments\n",
        "# * single line (#)\n",
        "# * multi line comment ('''  ''')\n",
        "'''\n",
        "hi this is multi line comment\n",
        "'''"
      ],
      "metadata": {
        "id": "vnQiUuqxrUkj"
      },
      "execution_count": null,
      "outputs": []
    },
    {
      "cell_type": "code",
      "source": [
        "# variable\n",
        "a='day1 with python'\n",
        "print('a:',a)\n",
        "# multi variable assigned by muliti values\n",
        "b,c,d='1','2','3'\n",
        "print('mm:',b,c,d)\n",
        "# single value assigned to multi variables\n",
        "e=f=g=5\n",
        "print('sm:',e)\n",
        "# multi variables assigned to single variable\n",
        "h=1,2,3\n",
        "print('ms:',h)\n",
        "# variable\n",
        "a='day1 with python'\n",
        "print('a:',a)\n",
        "# multi variable assigned by muliti values\n",
        "b,c,d='1','2','3'\n",
        "print('mm:',b,c,d)\n",
        "# single value assigned to multi variables\n",
        "e=f=g=5\n",
        "print('sm:',e)\n",
        "# multi variables assigned to single variable\n",
        "h=1,2,3\n",
        "print('ms:',h)\n",
        "# to find the address of the data\n",
        "i='this is bharath'\n",
        "print('i:',id(i))"
      ],
      "metadata": {
        "colab": {
          "base_uri": "https://localhost:8080/"
        },
        "id": "5b4Y6M1jr7YL",
        "outputId": "e3f85db2-7f6d-4e7f-bca1-43dfdadf7905"
      },
      "execution_count": 9,
      "outputs": [
        {
          "output_type": "stream",
          "name": "stdout",
          "text": [
            "a: day1 with python\n",
            "mm: 1 2 3\n",
            "sm: 5\n",
            "ms: (1, 2, 3)\n",
            "a: day1 with python\n",
            "mm: 1 2 3\n",
            "sm: 5\n",
            "ms: (1, 2, 3)\n",
            "i: 133530585830960\n"
          ]
        }
      ]
    },
    {
      "cell_type": "code",
      "source": [],
      "metadata": {
        "id": "n8FqyIGVu0Gj"
      },
      "execution_count": null,
      "outputs": []
    }
  ]
}