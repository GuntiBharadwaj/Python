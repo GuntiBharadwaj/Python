{
  "nbformat": 4,
  "nbformat_minor": 0,
  "metadata": {
    "colab": {
      "provenance": [],
      "authorship_tag": "ABX9TyMeE517zZ7TFun1WzM/JE0J",
      "include_colab_link": true
    },
    "kernelspec": {
      "name": "python3",
      "display_name": "Python 3"
    },
    "language_info": {
      "name": "python"
    }
  },
  "cells": [
    {
      "cell_type": "markdown",
      "metadata": {
        "id": "view-in-github",
        "colab_type": "text"
      },
      "source": [
        "<a href=\"https://colab.research.google.com/github/GuntiBharadwaj/Python/blob/main/loops.ipynb\" target=\"_parent\"><img src=\"https://colab.research.google.com/assets/colab-badge.svg\" alt=\"Open In Colab\"/></a>"
      ]
    },
    {
      "cell_type": "code",
      "execution_count": 7,
      "metadata": {
        "colab": {
          "base_uri": "https://localhost:8080/"
        },
        "id": "0YjVnvRSDb4U",
        "outputId": "9fe7abfc-8c09-4063-a294-5eb70a5cde0a"
      },
      "outputs": [
        {
          "output_type": "stream",
          "name": "stdout",
          "text": [
            "python 0\n",
            "python 1\n",
            "python 2\n",
            "python 3\n",
            "python 4\n",
            "python 5\n",
            "python 6\n",
            "python 7\n",
            "python 8\n",
            "python 9\n"
          ]
        }
      ],
      "source": [
        "# while loop\n",
        "i=0\n",
        "while i<10:\n",
        "  print(\"python\",i)\n",
        "  i=i+1"
      ]
    },
    {
      "cell_type": "code",
      "source": [
        "# to print the content in list by using while loops\n",
        "l=['print python']\n",
        "i=0\n",
        "while i<4:\n",
        "  print(l,i)\n",
        "  i=i+1"
      ],
      "metadata": {
        "colab": {
          "base_uri": "https://localhost:8080/"
        },
        "id": "TC1AnPMiGNLA",
        "outputId": "0611a752-00f9-49c3-c2bb-4ea3acfdb7c9"
      },
      "execution_count": 8,
      "outputs": [
        {
          "output_type": "stream",
          "name": "stdout",
          "text": [
            "['print python'] 0\n",
            "['print python'] 1\n",
            "['print python'] 2\n",
            "['print python'] 3\n"
          ]
        }
      ]
    },
    {
      "cell_type": "code",
      "source": [
        "# for loops\n",
        "for i in range(5):\n",
        "  print(i)"
      ],
      "metadata": {
        "colab": {
          "base_uri": "https://localhost:8080/"
        },
        "id": "3ppt7IG8GzF9",
        "outputId": "fcf0edcc-5c78-4f5e-9f94-e39822da196d"
      },
      "execution_count": 9,
      "outputs": [
        {
          "output_type": "stream",
          "name": "stdout",
          "text": [
            "0\n",
            "1\n",
            "2\n",
            "3\n",
            "4\n"
          ]
        }
      ]
    },
    {
      "cell_type": "code",
      "source": [
        "f=[1,4,3]\n",
        "for i in f:\n",
        "  print(i)"
      ],
      "metadata": {
        "colab": {
          "base_uri": "https://localhost:8080/"
        },
        "id": "ZxSC4LkKHJ5c",
        "outputId": "8da5249c-d059-43ce-b99e-32951dc83791"
      },
      "execution_count": 12,
      "outputs": [
        {
          "output_type": "stream",
          "name": "stdout",
          "text": [
            "1\n",
            "4\n",
            "3\n"
          ]
        }
      ]
    },
    {
      "cell_type": "code",
      "source": [
        "f=[1,4,3]\n",
        "for i in f:\n",
        "  print(i)\n",
        "else:\n",
        "  print(\"all done\")"
      ],
      "metadata": {
        "colab": {
          "base_uri": "https://localhost:8080/"
        },
        "id": "-Gb9ynwsHpd6",
        "outputId": "04bcdb53-ecc5-4299-8263-42b1d36bb1cb"
      },
      "execution_count": 13,
      "outputs": [
        {
          "output_type": "stream",
          "name": "stdout",
          "text": [
            "1\n",
            "4\n",
            "3\n",
            "all done\n"
          ]
        }
      ]
    },
    {
      "cell_type": "code",
      "source": [
        "for i in range(20):\n",
        "  print(i)"
      ],
      "metadata": {
        "colab": {
          "base_uri": "https://localhost:8080/"
        },
        "id": "jotA0T-ZIhzE",
        "outputId": "9e74631a-1c4b-4a08-aa12-9de7d6c6c001"
      },
      "execution_count": 16,
      "outputs": [
        {
          "output_type": "stream",
          "name": "stdout",
          "text": [
            "0\n",
            "1\n",
            "2\n",
            "3\n",
            "4\n",
            "5\n",
            "6\n",
            "7\n",
            "8\n",
            "9\n",
            "10\n",
            "11\n",
            "12\n",
            "13\n",
            "14\n",
            "15\n",
            "16\n",
            "17\n",
            "18\n",
            "19\n"
          ]
        }
      ]
    },
    {
      "cell_type": "code",
      "source": [
        "# breaking statements\n",
        "for i in range(20):\n",
        "  print(i)\n",
        "  if (i==4):\n",
        "    break"
      ],
      "metadata": {
        "colab": {
          "base_uri": "https://localhost:8080/"
        },
        "id": "4H_enavlIFmH",
        "outputId": "72ab8a2b-c3ec-47b6-9f38-b6bdae1d6682"
      },
      "execution_count": 17,
      "outputs": [
        {
          "output_type": "stream",
          "name": "stdout",
          "text": [
            "0\n",
            "1\n",
            "2\n",
            "3\n",
            "4\n"
          ]
        }
      ]
    },
    {
      "cell_type": "code",
      "source": [
        "# continue statement\n",
        "for i in range(20):\n",
        "  print(\"hi\")\n",
        "  if (i==4):\n",
        "    continue\n",
        "    print(i)"
      ],
      "metadata": {
        "colab": {
          "base_uri": "https://localhost:8080/"
        },
        "id": "DXAcFjeRInD5",
        "outputId": "64f35e5b-3f15-4cd3-e4f2-660dc634710c"
      },
      "execution_count": 23,
      "outputs": [
        {
          "output_type": "stream",
          "name": "stdout",
          "text": [
            "hi\n",
            "hi\n",
            "hi\n",
            "hi\n",
            "hi\n",
            "hi\n",
            "hi\n",
            "hi\n",
            "hi\n",
            "hi\n",
            "hi\n",
            "hi\n",
            "hi\n",
            "hi\n",
            "hi\n",
            "hi\n",
            "hi\n",
            "hi\n",
            "hi\n",
            "hi\n"
          ]
        }
      ]
    },
    {
      "cell_type": "code",
      "source": [
        "# PASS\n",
        "i=['happy','sad','aggresive']\n",
        "for i in i:\n",
        "    pass# eith out pass statement it shows a error"
      ],
      "metadata": {
        "id": "YobfUUxgJrda"
      },
      "execution_count": 27,
      "outputs": []
    }
  ]
}