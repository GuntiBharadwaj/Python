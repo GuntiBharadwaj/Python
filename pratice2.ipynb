{
  "nbformat": 4,
  "nbformat_minor": 0,
  "metadata": {
    "colab": {
      "provenance": [],
      "authorship_tag": "ABX9TyOG54LqqIGNxc46wWmSnXOk",
      "include_colab_link": true
    },
    "kernelspec": {
      "name": "python3",
      "display_name": "Python 3"
    },
    "language_info": {
      "name": "python"
    }
  },
  "cells": [
    {
      "cell_type": "markdown",
      "metadata": {
        "id": "view-in-github",
        "colab_type": "text"
      },
      "source": [
        "<a href=\"https://colab.research.google.com/github/GuntiBharadwaj/Python/blob/main/pratice2.ipynb\" target=\"_parent\"><img src=\"https://colab.research.google.com/assets/colab-badge.svg\" alt=\"Open In Colab\"/></a>"
      ]
    },
    {
      "cell_type": "code",
      "execution_count": null,
      "metadata": {
        "colab": {
          "base_uri": "https://localhost:8080/"
        },
        "id": "zCVaLemTyiHo",
        "outputId": "09276e5a-8c98-45fc-d264-6d941e36d42d"
      },
      "outputs": [
        {
          "output_type": "stream",
          "name": "stdout",
          "text": [
            "poem: \n",
            "The wind it whispers through the trees,\n",
            "With secrets carried on the breeze.\n",
            "It tells of stars and ocean's sigh,\n",
            "Of dreams that drift across the sky.\n",
            "\n",
            "It dances through the meadow grass,\n",
            "And hums a tune as soft as glass.\n",
            "A lullaby for hearts that roam,\n",
            "It guides the lost and brings them home.\n",
            "\n",
            "So when you hear the branches sing,\n",
            "Just pause—and listen to the wind’s wing.\n",
            "It speaks in tones both old and true,\n",
            "A quiet friend that speaks to you.\n",
            "\n"
          ]
        }
      ],
      "source": [
        "# q1 write a program to print poem in python\n",
        "poem= '''\n",
        "The wind it whispers through the trees,\n",
        "With secrets carried on the breeze.\n",
        "It tells of stars and ocean's sigh,\n",
        "Of dreams that drift across the sky.\n",
        "\n",
        "It dances through the meadow grass,\n",
        "And hums a tune as soft as glass.\n",
        "A lullaby for hearts that roam,\n",
        "It guides the lost and brings them home.\n",
        "\n",
        "So when you hear the branches sing,\n",
        "Just pause—and listen to the wind’s wing.\n",
        "It speaks in tones both old and true,\n",
        "A quiet friend that speaks to you.\n",
        "'''\n",
        "print('poem:',poem)"
      ]
    },
    {
      "cell_type": "code",
      "source": [
        "# use repl and print the table of 2 using it\n",
        "number=int(input(\"enter the number:\"))\n",
        "for i in range(1,11):\n",
        "  mul=number*i\n",
        "  print(f\"{number}x{i}={mul}\")"
      ],
      "metadata": {
        "colab": {
          "base_uri": "https://localhost:8080/"
        },
        "id": "RaKsQd-V0hPP",
        "outputId": "06aeefb2-0715-4965-cd4d-d2604dd7a77c"
      },
      "execution_count": null,
      "outputs": [
        {
          "output_type": "stream",
          "name": "stdout",
          "text": [
            "enter the number:5\n",
            "5x1=5\n",
            "5x2=10\n",
            "5x3=15\n",
            "5x4=20\n",
            "5x5=25\n",
            "5x6=30\n",
            "5x7=35\n",
            "5x8=40\n",
            "5x9=45\n",
            "5x10=50\n"
          ]
        }
      ]
    }
  ]
}