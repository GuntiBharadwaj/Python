{
  "nbformat": 4,
  "nbformat_minor": 0,
  "metadata": {
    "colab": {
      "provenance": [],
      "authorship_tag": "ABX9TyMFB3F5AiYtAvD85Np3kpMg",
      "include_colab_link": true
    },
    "kernelspec": {
      "name": "python3",
      "display_name": "Python 3"
    },
    "language_info": {
      "name": "python"
    }
  },
  "cells": [
    {
      "cell_type": "markdown",
      "metadata": {
        "id": "view-in-github",
        "colab_type": "text"
      },
      "source": [
        "<a href=\"https://colab.research.google.com/github/GuntiBharadwaj/Python/blob/main/functions.ipynb\" target=\"_parent\"><img src=\"https://colab.research.google.com/assets/colab-badge.svg\" alt=\"Open In Colab\"/></a>"
      ]
    },
    {
      "cell_type": "code",
      "execution_count": 3,
      "metadata": {
        "colab": {
          "base_uri": "https://localhost:8080/"
        },
        "id": "h6Ig1qJVRIeF",
        "outputId": "aaafa602-e64e-460b-a06c-d7ba798c5c64"
      },
      "outputs": [
        {
          "output_type": "stream",
          "name": "stdout",
          "text": [
            "4.0\n"
          ]
        }
      ],
      "source": [
        "def g(a,b,c):\n",
        "  return (a+b+c)/3\n",
        "g=g(3,5,4)\n",
        "print(g)"
      ]
    },
    {
      "cell_type": "code",
      "source": [
        "# greetings\n",
        "def greet(name='c'):\n",
        "  return ('Hello '+name)\n",
        "f=greet('bharath')\n",
        "print(f)"
      ],
      "metadata": {
        "colab": {
          "base_uri": "https://localhost:8080/"
        },
        "id": "hjYlo3JR-rJA",
        "outputId": "01116c60-4754-4157-9b1f-da11cbefe0d2"
      },
      "execution_count": 7,
      "outputs": [
        {
          "output_type": "stream",
          "name": "stdout",
          "text": [
            "Hello bharath\n"
          ]
        }
      ]
    },
    {
      "cell_type": "code",
      "source": [
        "# factorial\n",
        "def factorial(number):\n",
        "    if number==1 or number==0:\n",
        "        return 1\n",
        "    else:\n",
        "        return number * factorial(number-1)\n",
        "  # n=factorial(int(input(\"enter the number:\")))\n",
        "n=factorial(4)\n",
        "print(n)"
      ],
      "metadata": {
        "colab": {
          "base_uri": "https://localhost:8080/"
        },
        "id": "VVH08kKo_NBx",
        "outputId": "bcc86ef8-13ae-4a86-b654-1e5c1e0b81cf"
      },
      "execution_count": 16,
      "outputs": [
        {
          "output_type": "stream",
          "name": "stdout",
          "text": [
            "24\n"
          ]
        }
      ]
    },
    {
      "cell_type": "code",
      "source": [
        "# fint the greatest number\n",
        "def s(a,b,c):\n",
        "    if a>b and a>c:\n",
        "      return(a)\n",
        "    elif b>c and b>a:\n",
        "      return(b)\n",
        "    else:\n",
        "      return(c)\n",
        "number=s(3,4,5)\n",
        "print(number)\n",
        "# print(id(s))"
      ],
      "metadata": {
        "colab": {
          "base_uri": "https://localhost:8080/"
        },
        "id": "uHGrRN6yBlF2",
        "outputId": "de19270e-fd33-4d74-f209-6748d3f635ca"
      },
      "execution_count": 23,
      "outputs": [
        {
          "output_type": "stream",
          "name": "stdout",
          "text": [
            "5\n",
            "140224372236160\n"
          ]
        }
      ]
    },
    {
      "cell_type": "code",
      "source": [
        "# to find the prime number\n",
        "def prime(number):\n",
        "  if number%2==0:\n",
        "    return(\"it is not a prime number\")\n",
        "  else:\n",
        "    return(\"it is prime number\")\n",
        "number=prime(int(input(\"enter the number:\")))\n",
        "print(number)"
      ],
      "metadata": {
        "colab": {
          "base_uri": "https://localhost:8080/"
        },
        "id": "iUnbHZuyFeGk",
        "outputId": "78fc0548-7a14-416e-be27-8a68fb5fcfb8"
      },
      "execution_count": 28,
      "outputs": [
        {
          "output_type": "stream",
          "name": "stdout",
          "text": [
            "enter the number:5\n",
            "it is prime number\n"
          ]
        }
      ]
    },
    {
      "cell_type": "code",
      "source": [
        "# to sum the n natural numbers\n",
        "def sum(n):\n",
        "    if n < 0:\n",
        "      return (\"invalid\")\n",
        "    elif n == 0:\n",
        "        return 0\n",
        "    else:\n",
        "      return n + sum(n - 1)\n",
        "k=int(input(\"enter the number:\"))\n",
        "number=sum(k)\n",
        "print(\"the sum of:\",k,\"natural numbers :\",number)"
      ],
      "metadata": {
        "colab": {
          "base_uri": "https://localhost:8080/"
        },
        "id": "RPCW4qPwHYUK",
        "outputId": "ba1d4ef5-1b06-408a-ede6-45f61fdee706"
      },
      "execution_count": 7,
      "outputs": [
        {
          "output_type": "stream",
          "name": "stdout",
          "text": [
            "enter the number:7\n",
            "the sum of: 7 natural numbers : 28\n"
          ]
        }
      ]
    },
    {
      "cell_type": "code",
      "source": [
        "# to print the pattern\n",
        "n=int(input(\"enter the number to print the pattern:\"))\n",
        "for rows in range(n,0,-1):\n",
        "  for cols in range(1,rows+1):\n",
        "    print(\"*\",end=\" \")\n",
        "  print(\"\")"
      ],
      "metadata": {
        "colab": {
          "base_uri": "https://localhost:8080/"
        },
        "id": "CQkSZZapJ-3j",
        "outputId": "f2ff45d9-ea39-4857-8d3f-372159767457"
      },
      "execution_count": 21,
      "outputs": [
        {
          "output_type": "stream",
          "name": "stdout",
          "text": [
            "enter the number to print the pattern:3\n",
            "* * * \n",
            "* * \n",
            "* \n"
          ]
        }
      ]
    },
    {
      "cell_type": "code",
      "source": [
        "# table\n",
        "def table(n):\n",
        "  for i in range(1,11):\n",
        "    d=n*i\n",
        "    print(n,\"*\",i,\"=\",d)\n",
        "j=int(input(\"enter the number of table tou want:\"))\n",
        "table(j)"
      ],
      "metadata": {
        "colab": {
          "base_uri": "https://localhost:8080/"
        },
        "id": "WRvGiZ_pNeDW",
        "outputId": "6e7a843f-63c7-4498-edf8-9b033815e6f1"
      },
      "execution_count": 23,
      "outputs": [
        {
          "output_type": "stream",
          "name": "stdout",
          "text": [
            "enter the number of table tou want:5\n",
            "5 * 1 = 5\n",
            "5 * 2 = 10\n",
            "5 * 3 = 15\n",
            "5 * 4 = 20\n",
            "5 * 5 = 25\n",
            "5 * 6 = 30\n",
            "5 * 7 = 35\n",
            "5 * 8 = 40\n",
            "5 * 9 = 45\n",
            "5 * 10 = 50\n"
          ]
        }
      ]
    },
    {
      "cell_type": "code",
      "source": [],
      "metadata": {
        "id": "hOF-hdNZOZtY"
      },
      "execution_count": null,
      "outputs": []
    }
  ]
}