{
  "nbformat": 4,
  "nbformat_minor": 0,
  "metadata": {
    "colab": {
      "provenance": [],
      "authorship_tag": "ABX9TyOYuZlRoSAZx4QcVGyGFH0Q",
      "include_colab_link": true
    },
    "kernelspec": {
      "name": "python3",
      "display_name": "Python 3"
    },
    "language_info": {
      "name": "python"
    }
  },
  "cells": [
    {
      "cell_type": "markdown",
      "metadata": {
        "id": "view-in-github",
        "colab_type": "text"
      },
      "source": [
        "<a href=\"https://colab.research.google.com/github/GuntiBharadwaj/Python/blob/main/practice_set_on_loops.ipynb\" target=\"_parent\"><img src=\"https://colab.research.google.com/assets/colab-badge.svg\" alt=\"Open In Colab\"/></a>"
      ]
    },
    {
      "cell_type": "code",
      "execution_count": 11,
      "metadata": {
        "colab": {
          "base_uri": "https://localhost:8080/"
        },
        "id": "G8fvrD9RKkwJ",
        "outputId": "c4ab156c-e8c5-48f6-c5d9-692e51c091bb"
      },
      "outputs": [
        {
          "output_type": "stream",
          "name": "stdout",
          "text": [
            "enter the number:5\n",
            "5 * 1 = 5\n",
            "5 * 2 = 10\n",
            "5 * 3 = 15\n",
            "5 * 4 = 20\n",
            "5 * 5 = 25\n",
            "5 * 6 = 30\n",
            "5 * 7 = 35\n",
            "5 * 8 = 40\n",
            "5 * 9 = 45\n",
            "5 * 10 = 50\n"
          ]
        }
      ],
      "source": [
        "# by using for loop generate a table\n",
        "number=int(input(\"enter the number:\"))\n",
        "for i in range(1,11):\n",
        "  table=number*i\n",
        "  print(number,\"*\",i,\"=\",table)"
      ]
    },
    {
      "cell_type": "code",
      "source": [
        "# to greet the person in the list\n",
        "# to greet the person in the list\n",
        "persons=['bharath','supraja','yeswanth','kavya','bunny']\n",
        "for i in persons:\n",
        "  print(f\"{i}, greetings of the day\")# {i} is the count i.e, i=0.i=1,i=2,i=3"
      ],
      "metadata": {
        "colab": {
          "base_uri": "https://localhost:8080/"
        },
        "id": "mq-GEg06MBMI",
        "outputId": "5d98fdf5-e719-42e7-b8a1-0f63cbb92b24"
      },
      "execution_count": 15,
      "outputs": [
        {
          "output_type": "stream",
          "name": "stdout",
          "text": [
            "bharath, greetings of the day\n",
            "supraja, greetings of the day\n",
            "yeswanth, greetings of the day\n",
            "kavya, greetings of the day\n",
            "bunny, greetings of the day\n"
          ]
        }
      ]
    },
    {
      "cell_type": "code",
      "source": [
        "# by using while loop generate a table\n",
        "number=int(input(\"enter the number:\"))\n",
        "i=1\n",
        "while i<11:\n",
        "  print(number,\"*\",i,\"=\",number*i)\n",
        "  i += 1"
      ],
      "metadata": {
        "colab": {
          "base_uri": "https://localhost:8080/"
        },
        "id": "h6BSUgX4NdVy",
        "outputId": "1163ec40-9de3-43c7-8c7e-0a873c6e8279"
      },
      "execution_count": 21,
      "outputs": [
        {
          "output_type": "stream",
          "name": "stdout",
          "text": [
            "enter the number:4\n",
            "4 * 1 = 4\n",
            "4 * 2 = 8\n",
            "4 * 3 = 12\n",
            "4 * 4 = 16\n",
            "4 * 5 = 20\n",
            "4 * 6 = 24\n",
            "4 * 7 = 28\n",
            "4 * 8 = 32\n",
            "4 * 9 = 36\n",
            "4 * 10 = 40\n"
          ]
        }
      ]
    },
    {
      "cell_type": "code",
      "source": [
        "# to check a given number is prime or not\n",
        "number=int(input(\"enter the number:\"))\n",
        "if(number<1):\n",
        "  print(\"the given numbr is not a prime number\")\n",
        "else:\n",
        "  for i in range(2,number):\n",
        "      if(number%2==0):\n",
        "         print(\"entered number is not a prime number\")\n",
        "         break\n",
        "  else:\n",
        "    print(\"it was a prime number\")"
      ],
      "metadata": {
        "colab": {
          "base_uri": "https://localhost:8080/"
        },
        "id": "_aIQpRGdPNg5",
        "outputId": "47a5afd8-5ab7-414d-f185-f02a54a523ea"
      },
      "execution_count": 28,
      "outputs": [
        {
          "output_type": "stream",
          "name": "stdout",
          "text": [
            "enter the number:6\n",
            "entered number is not a prime number\n"
          ]
        }
      ]
    },
    {
      "cell_type": "code",
      "source": [
        "# to find the sum of first 10 natural numbers using while loop\n",
        "i=1\n",
        "sum=0\n",
        "while i<=10:\n",
        "  sum=sum+i\n",
        "  i =i+1\n",
        "print(\"sum of first 10 natural numbers:\",sum)"
      ],
      "metadata": {
        "colab": {
          "base_uri": "https://localhost:8080/"
        },
        "id": "uHljZCGJRVOY",
        "outputId": "c12256fc-8b15-4678-e1c3-00d47e7a54c9"
      },
      "execution_count": 39,
      "outputs": [
        {
          "output_type": "stream",
          "name": "stdout",
          "text": [
            "sum of first 10 natural numbers: 55\n"
          ]
        }
      ]
    },
    {
      "cell_type": "code",
      "source": [
        "# to find the factorial of the given number\n",
        "number=int(input(\"enter the number: \"))\n",
        "f=1\n",
        "for i in range (1,number+1):\n",
        "  f=f*i\n",
        "print(\"factorial of the given number :\",f)\n",
        ""
      ],
      "metadata": {
        "colab": {
          "base_uri": "https://localhost:8080/"
        },
        "id": "4qC5YIk7TaCf",
        "outputId": "21a11c24-02d7-41fc-d3ed-01d8fe0a5d3e"
      },
      "execution_count": 49,
      "outputs": [
        {
          "output_type": "stream",
          "name": "stdout",
          "text": [
            "enter the number: 4\n",
            "factorial of the given number : 24\n"
          ]
        }
      ]
    },
    {
      "cell_type": "code",
      "source": [
        "# to print the reverse the table\n",
        "number=int(input(\"enter the number:\"))\n",
        "for i in range(10,0,-1):\n",
        "  table=number*i\n",
        "  print(number,\"*\",i,\"=\",table)"
      ],
      "metadata": {
        "colab": {
          "base_uri": "https://localhost:8080/"
        },
        "id": "DuWbsgg8V65f",
        "outputId": "d1380ccb-5cff-4854-d7e4-b054fcb278d6"
      },
      "execution_count": 52,
      "outputs": [
        {
          "output_type": "stream",
          "name": "stdout",
          "text": [
            "enter the number:4\n",
            "4 * 10 = 40\n",
            "4 * 9 = 36\n",
            "4 * 8 = 32\n",
            "4 * 7 = 28\n",
            "4 * 6 = 24\n",
            "4 * 5 = 20\n",
            "4 * 4 = 16\n",
            "4 * 3 = 12\n",
            "4 * 2 = 8\n",
            "4 * 1 = 4\n"
          ]
        }
      ]
    }
  ]
}