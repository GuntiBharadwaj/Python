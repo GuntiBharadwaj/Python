{
  "nbformat": 4,
  "nbformat_minor": 0,
  "metadata": {
    "colab": {
      "provenance": [],
      "authorship_tag": "ABX9TyMdNOI1+7QOouVZXAfthfr3",
      "include_colab_link": true
    },
    "kernelspec": {
      "name": "python3",
      "display_name": "Python 3"
    },
    "language_info": {
      "name": "python"
    }
  },
  "cells": [
    {
      "cell_type": "markdown",
      "metadata": {
        "id": "view-in-github",
        "colab_type": "text"
      },
      "source": [
        "<a href=\"https://colab.research.google.com/github/GuntiBharadwaj/Python/blob/main/sets_2.ipynb\" target=\"_parent\"><img src=\"https://colab.research.google.com/assets/colab-badge.svg\" alt=\"Open In Colab\"/></a>"
      ]
    },
    {
      "cell_type": "code",
      "execution_count": 2,
      "metadata": {
        "colab": {
          "base_uri": "https://localhost:8080/"
        },
        "id": "LatyMS-6XuGj",
        "outputId": "de0ab8a2-4640-440d-dc6a-e323da459016"
      },
      "outputs": [
        {
          "output_type": "stream",
          "name": "stdout",
          "text": [
            "set()\n",
            "{1}\n"
          ]
        }
      ],
      "source": [
        "# to update the empty set to value\n",
        "emptyset= set()\n",
        "print(emptyset)\n",
        "emptyset.add(1)\n",
        "print(emptyset)"
      ]
    },
    {
      "cell_type": "code",
      "source": [
        "# union of sets\n",
        "seta={1,2,3,4,5}\n",
        "setb={4,5,6,7,8}\n",
        "print(seta|setb)# union of two sets\n",
        "print(\"method 2\",seta.union(setb))"
      ],
      "metadata": {
        "colab": {
          "base_uri": "https://localhost:8080/"
        },
        "id": "6PI-rKLGdBlH",
        "outputId": "9483e7de-f697-4bc8-b0c1-ebdb5dd119c2"
      },
      "execution_count": 6,
      "outputs": [
        {
          "output_type": "stream",
          "name": "stdout",
          "text": [
            "{1, 2, 3, 4, 5, 6, 7, 8}\n",
            "method 2 {1, 2, 3, 4, 5, 6, 7, 8}\n"
          ]
        }
      ]
    },
    {
      "cell_type": "code",
      "source": [
        "# intersection\n",
        "print(seta&setb)\n",
        "print(seta.intersection(setb))# method 2"
      ],
      "metadata": {
        "colab": {
          "base_uri": "https://localhost:8080/"
        },
        "id": "BtKURnCMd7C5",
        "outputId": "24795380-67ea-44b6-a202-55741739cbf8"
      },
      "execution_count": 8,
      "outputs": [
        {
          "output_type": "stream",
          "name": "stdout",
          "text": [
            "{4, 5}\n",
            "{4, 5}\n"
          ]
        }
      ]
    },
    {
      "cell_type": "code",
      "source": [
        "# difference\n",
        "print(seta-setb)"
      ],
      "metadata": {
        "colab": {
          "base_uri": "https://localhost:8080/"
        },
        "id": "0CmcxfU-g89N",
        "outputId": "bc54b0c4-6c99-4701-d3e7-44f3a2b7e64d"
      },
      "execution_count": 10,
      "outputs": [
        {
          "output_type": "stream",
          "name": "stdout",
          "text": [
            "{1, 2, 3}\n"
          ]
        }
      ]
    },
    {
      "cell_type": "code",
      "source": [
        "# symentric difference\n",
        "print(seta^setb)\n",
        "# print(seta.symentric_difference(setb))# method 2"
      ],
      "metadata": {
        "colab": {
          "base_uri": "https://localhost:8080/"
        },
        "id": "S7QvOx6VhKA7",
        "outputId": "a069fda3-fe3a-4409-bb00-f0259d9457c9"
      },
      "execution_count": 13,
      "outputs": [
        {
          "output_type": "stream",
          "name": "stdout",
          "text": [
            "{1, 2, 3, 6, 7, 8}\n"
          ]
        }
      ]
    },
    {
      "cell_type": "code",
      "source": [],
      "metadata": {
        "id": "FPxZVZ8yhmm9"
      },
      "execution_count": null,
      "outputs": []
    }
  ]
}