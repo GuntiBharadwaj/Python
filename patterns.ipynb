{
  "nbformat": 4,
  "nbformat_minor": 0,
  "metadata": {
    "colab": {
      "provenance": [],
      "authorship_tag": "ABX9TyOCAHSl2Kvdr1ByFpa0J8ab",
      "include_colab_link": true
    },
    "kernelspec": {
      "name": "python3",
      "display_name": "Python 3"
    },
    "language_info": {
      "name": "python"
    }
  },
  "cells": [
    {
      "cell_type": "markdown",
      "metadata": {
        "id": "view-in-github",
        "colab_type": "text"
      },
      "source": [
        "<a href=\"https://colab.research.google.com/github/GuntiBharadwaj/Python/blob/main/patterns.ipynb\" target=\"_parent\"><img src=\"https://colab.research.google.com/assets/colab-badge.svg\" alt=\"Open In Colab\"/></a>"
      ]
    },
    {
      "cell_type": "code",
      "source": [
        "# patterns\n",
        "# pattern1\n",
        "n=3\n",
        "for rows in range(1,n+1):\n",
        "  for cols in range(1,n+1):\n",
        "    print(\"#\",end=\" \")\n",
        "  print()"
      ],
      "metadata": {
        "colab": {
          "base_uri": "https://localhost:8080/"
        },
        "id": "wiRvTCTwkFYz",
        "outputId": "ccdb5f5c-1be8-4fd6-9cd7-abedf3ce915d"
      },
      "execution_count": null,
      "outputs": [
        {
          "output_type": "stream",
          "name": "stdout",
          "text": [
            "# # # \n",
            "# # # \n",
            "# # # \n"
          ]
        }
      ]
    },
    {
      "cell_type": "code",
      "source": [
        "# pattern 2\n",
        "n=3\n",
        "for rows in range(1,n+1):\n",
        "  for cols in range(1,n+1):\n",
        "    print(rows,end=\" \")\n",
        "  print()"
      ],
      "metadata": {
        "colab": {
          "base_uri": "https://localhost:8080/"
        },
        "id": "eyb06D45kg9H",
        "outputId": "bf2cca84-6f8b-4c99-e109-52a03d625fa4"
      },
      "execution_count": null,
      "outputs": [
        {
          "output_type": "stream",
          "name": "stdout",
          "text": [
            "1 1 1 \n",
            "2 2 2 \n",
            "3 3 3 \n"
          ]
        }
      ]
    },
    {
      "cell_type": "code",
      "source": [
        "# pattern 3\n",
        "n=3\n",
        "for rows in range(1,n+1):\n",
        "  for cols in range(1,n+1):\n",
        "    print(cols,end=\" \")\n",
        "  print()"
      ],
      "metadata": {
        "colab": {
          "base_uri": "https://localhost:8080/"
        },
        "id": "JwEnM7Ntkq6F",
        "outputId": "3fc555fb-dda2-4393-cc00-1ae29d06ef2c"
      },
      "execution_count": null,
      "outputs": [
        {
          "output_type": "stream",
          "name": "stdout",
          "text": [
            "1 2 3 \n",
            "1 2 3 \n",
            "1 2 3 \n"
          ]
        }
      ]
    },
    {
      "cell_type": "code",
      "execution_count": null,
      "metadata": {
        "colab": {
          "base_uri": "https://localhost:8080/"
        },
        "id": "TxixEhQUdib8",
        "outputId": "e7eedf6b-864c-4cb6-8547-fb0051cc248e"
      },
      "outputs": [
        {
          "output_type": "stream",
          "name": "stdout",
          "text": [
            "@ \n",
            "@ @ \n",
            "@ @ @ \n",
            "@ @ @ @ \n",
            "@ @ @ @ @ \n"
          ]
        }
      ],
      "source": [
        "# pattern 4\n",
        "n=5\n",
        "for rows in range(1,n+1):\n",
        "  for clos in range(1,rows+1):\n",
        "    print(\"@\",end=\" \")\n",
        "  print()"
      ]
    },
    {
      "cell_type": "code",
      "source": [
        "# pattern 5\n",
        "n=5\n",
        "for rows in range(1,n+1):\n",
        "  for cols in range(1,rows+1):\n",
        "    print(rows,end=\" \")\n",
        "  print()"
      ],
      "metadata": {
        "colab": {
          "base_uri": "https://localhost:8080/"
        },
        "id": "o-gtchKEeE9x",
        "outputId": "d5d10553-d514-4e3a-836a-8b6bef847fac"
      },
      "execution_count": null,
      "outputs": [
        {
          "output_type": "stream",
          "name": "stdout",
          "text": [
            "1 \n",
            "2 2 \n",
            "3 3 3 \n",
            "4 4 4 4 \n",
            "5 5 5 5 5 \n"
          ]
        }
      ]
    },
    {
      "cell_type": "code",
      "source": [
        "# pattern 6\n",
        "n=5\n",
        "for rows in range(1,n+1):\n",
        "  for cols in range(1,rows+1):\n",
        "    print(cols,end=\" \")\n",
        "  print()"
      ],
      "metadata": {
        "colab": {
          "base_uri": "https://localhost:8080/"
        },
        "id": "QwBEA_6Xe2aq",
        "outputId": "0360468b-7d9c-4d4a-97d1-8bd963c16e60"
      },
      "execution_count": null,
      "outputs": [
        {
          "output_type": "stream",
          "name": "stdout",
          "text": [
            "1 \n",
            "1 2 \n",
            "1 2 3 \n",
            "1 2 3 4 \n",
            "1 2 3 4 5 \n"
          ]
        }
      ]
    },
    {
      "cell_type": "code",
      "source": [
        "# pattern 7\n",
        "n=5\n",
        "for rows in range(1,n+1):\n",
        "  for cols in range(1,n-rows+2):\n",
        "    print(\"*\",end=\" \")\n",
        "  print()"
      ],
      "metadata": {
        "colab": {
          "base_uri": "https://localhost:8080/"
        },
        "id": "DdYHVnhPe8oY",
        "outputId": "da3ca518-7fb3-431c-aba5-3ea5fc613db8"
      },
      "execution_count": null,
      "outputs": [
        {
          "output_type": "stream",
          "name": "stdout",
          "text": [
            "* * * * * \n",
            "* * * * \n",
            "* * * \n",
            "* * \n",
            "* \n"
          ]
        }
      ]
    },
    {
      "cell_type": "code",
      "source": [
        "# pattern 8\n",
        "n=int(input(\"enter the input of your pattern:\"))\n",
        "for rows in range(1,n+1):\n",
        "  for cols in range(1,n+1):\n",
        "    print(\"$\",end=\" \")\n",
        "  print()"
      ],
      "metadata": {
        "colab": {
          "base_uri": "https://localhost:8080/"
        },
        "id": "v32eQ3tngdLl",
        "outputId": "20ffff98-50f5-4e11-c3b4-8f27f648450c"
      },
      "execution_count": null,
      "outputs": [
        {
          "output_type": "stream",
          "name": "stdout",
          "text": [
            "enter the input of your pattern:5\n",
            "$ $ $ $ $ \n",
            "$ $ $ $ $ \n",
            "$ $ $ $ $ \n",
            "$ $ $ $ $ \n",
            "$ $ $ $ $ \n"
          ]
        }
      ]
    },
    {
      "cell_type": "code",
      "source": [
        "# pattern 9\n",
        "n=int(input(\"enter the input of your pattern:\"))\n",
        "for rows in range(1,n+1):\n",
        "  for cols in range(1,n-rows+2):\n",
        "    print(n-rows+1,end=\" \")\n",
        "  print()"
      ],
      "metadata": {
        "colab": {
          "base_uri": "https://localhost:8080/"
        },
        "id": "ruEdgewoho5v",
        "outputId": "188829d0-c985-4910-e517-b3e3b09b621c"
      },
      "execution_count": null,
      "outputs": [
        {
          "output_type": "stream",
          "name": "stdout",
          "text": [
            "enter the input of your pattern:5\n",
            "5 5 5 5 5 \n",
            "4 4 4 4 \n",
            "3 3 3 \n",
            "2 2 \n",
            "1 \n"
          ]
        }
      ]
    },
    {
      "cell_type": "code",
      "source": [
        "# pattern 10\n",
        "n=int(input(\"enter the input of your pattern:\"))\n",
        "for rows in range(1,n+1):\n",
        "  for cols in range(1,n-rows+2):\n",
        "    print(n-cols+1,end=\" \")\n",
        "  print()"
      ],
      "metadata": {
        "colab": {
          "base_uri": "https://localhost:8080/"
        },
        "id": "Dn4JbM0Zh4bk",
        "outputId": "5c63a595-c7e6-497b-d7d2-2443adcd9141"
      },
      "execution_count": null,
      "outputs": [
        {
          "output_type": "stream",
          "name": "stdout",
          "text": [
            "enter the input of your pattern:5\n",
            "5 4 3 2 1 \n",
            "5 4 3 2 \n",
            "5 4 3 \n",
            "5 4 \n",
            "5 \n"
          ]
        }
      ]
    },
    {
      "cell_type": "code",
      "source": [
        "# pattern 11\n",
        "n=5\n",
        "for rows in range(1,n+1):\n",
        "  for spaces in range(1,n-rows+1):\n",
        "    print(\" \",end=\" \")\n",
        "  for cols in range(1,rows+1):\n",
        "      print(\"*\",end=\" \")\n",
        "  print()"
      ],
      "metadata": {
        "colab": {
          "base_uri": "https://localhost:8080/"
        },
        "id": "I0Q1x3vGieB3",
        "outputId": "69242b4a-69dd-4420-b791-bbe1fc20b8be"
      },
      "execution_count": null,
      "outputs": [
        {
          "output_type": "stream",
          "name": "stdout",
          "text": [
            "        * \n",
            "      * * \n",
            "    * * * \n",
            "  * * * * \n",
            "* * * * * \n"
          ]
        }
      ]
    },
    {
      "cell_type": "code",
      "source": [
        "# pattern 12\n",
        "n=5\n",
        "for rows in range(1,n+1):\n",
        "  for spaces in range(1,n-rows+1):\n",
        "    print(\" \",end=\" \")\n",
        "  for cols in range(1,rows+1):\n",
        "    print(rows,end=\" \")\n",
        "  print()"
      ],
      "metadata": {
        "colab": {
          "base_uri": "https://localhost:8080/"
        },
        "id": "1Rv7KdsJjY3I",
        "outputId": "9255bd1d-2274-4321-81a5-c062b0b31b89"
      },
      "execution_count": null,
      "outputs": [
        {
          "output_type": "stream",
          "name": "stdout",
          "text": [
            "        1 \n",
            "      2 2 \n",
            "    3 3 3 \n",
            "  4 4 4 4 \n",
            "5 5 5 5 5 \n"
          ]
        }
      ]
    },
    {
      "cell_type": "code",
      "source": [
        "# pattern 12\n",
        "n=5\n",
        "for rows in range(1,n+1):\n",
        "  for spaces in range(1,n-rows+1):\n",
        "    print(\" \",end=\" \")\n",
        "  for cols in range(1,rows+1):\n",
        "    print(cols,end=\" \")\n",
        "  print()"
      ],
      "metadata": {
        "colab": {
          "base_uri": "https://localhost:8080/"
        },
        "id": "0N-bC5Wqj-_Q",
        "outputId": "44b3ae7a-2817-4414-c9c6-4e0ccc008a19"
      },
      "execution_count": null,
      "outputs": [
        {
          "output_type": "stream",
          "name": "stdout",
          "text": [
            "        1 \n",
            "      1 2 \n",
            "    1 2 3 \n",
            "  1 2 3 4 \n",
            "1 2 3 4 5 \n"
          ]
        }
      ]
    },
    {
      "cell_type": "code",
      "source": [
        "# pattern 13\n",
        "n=5\n",
        "for rows in range(1,n+1):\n",
        "  for spaces in range(1,rows):\n",
        "    print(\" \",end=\" \")\n",
        "  for cols in range(1,n-rows+2):\n",
        "    print(\"*\",end=\" \")\n",
        "  print()"
      ],
      "metadata": {
        "colab": {
          "base_uri": "https://localhost:8080/"
        },
        "id": "JPqw7e0YkyJs",
        "outputId": "e518f631-920b-4908-8e38-e7fd20e54ac8"
      },
      "execution_count": null,
      "outputs": [
        {
          "output_type": "stream",
          "name": "stdout",
          "text": [
            "* * * * * \n",
            "  * * * * \n",
            "    * * * \n",
            "      * * \n",
            "        * \n"
          ]
        }
      ]
    },
    {
      "cell_type": "code",
      "source": [
        "# pattern 14\n",
        "n=5\n",
        "for rows in range(1,n+1):\n",
        "  for spaces in range(1,rows):\n",
        "    print(\" \",end=\" \")\n",
        "  for cols in range(1,n-rows+2):\n",
        "    print(rows,end=\" \")\n",
        "  print()"
      ],
      "metadata": {
        "colab": {
          "base_uri": "https://localhost:8080/"
        },
        "id": "qDaNQe7xlg8I",
        "outputId": "3e28ae64-c95b-4bf5-ef9e-50d339928358"
      },
      "execution_count": null,
      "outputs": [
        {
          "output_type": "stream",
          "name": "stdout",
          "text": [
            "1 1 1 1 1 \n",
            "  2 2 2 2 \n",
            "    3 3 3 \n",
            "      4 4 \n",
            "        5 \n"
          ]
        }
      ]
    },
    {
      "cell_type": "code",
      "source": [
        "# pattern 15\n",
        "n=5\n",
        "for rows in range(1,n+1):\n",
        "  for spaces in range(n-rows+1):\n",
        "    print(\" \",end=\" \")\n",
        "  for cols in range(1,2*rows):\n",
        "    print(\"*\",end=\" \")\n",
        "  print()"
      ],
      "metadata": {
        "colab": {
          "base_uri": "https://localhost:8080/"
        },
        "id": "7PJCqk69mS5S",
        "outputId": "209b0c36-bc5d-4628-8164-cf6f1fdad1c9"
      },
      "execution_count": null,
      "outputs": [
        {
          "output_type": "stream",
          "name": "stdout",
          "text": [
            "          * \n",
            "        * * * \n",
            "      * * * * * \n",
            "    * * * * * * * \n",
            "  * * * * * * * * * \n"
          ]
        }
      ]
    },
    {
      "cell_type": "code",
      "source": [
        "# pattern 16\n",
        "n=5\n",
        "for rows in range(n,0,-1):\n",
        "  for spaces in range(n-rows):\n",
        "    print(\" \",end=\" \")\n",
        "  for cols in range(2*rows-1):\n",
        "    print(\"*\",end=\" \")\n",
        "  print()"
      ],
      "metadata": {
        "colab": {
          "base_uri": "https://localhost:8080/"
        },
        "id": "imWugrS9odjz",
        "outputId": "a7b5904a-5f03-448a-fc69-009be312e434"
      },
      "execution_count": null,
      "outputs": [
        {
          "output_type": "stream",
          "name": "stdout",
          "text": [
            "* * * * * * * * * \n",
            "  * * * * * * * \n",
            "    * * * * * \n",
            "      * * * \n",
            "        * \n"
          ]
        }
      ]
    },
    {
      "cell_type": "code",
      "source": [
        "# pattern 17\n",
        "n=5\n",
        "for rows in range(1,2*n):\n",
        "  if rows<=n:\n",
        "    for cols in range(1,rows+1):\n",
        "      print(\"*\",end=\" \")\n",
        "  else:\n",
        "    for cols in range(1,2*n-rows+1):\n",
        "      print(\"*\",end=\" \")\n",
        "  print()"
      ],
      "metadata": {
        "colab": {
          "base_uri": "https://localhost:8080/"
        },
        "id": "xbQQb2qQqNC5",
        "outputId": "d657be79-a136-4e5b-b5bf-53799c841f1c"
      },
      "execution_count": null,
      "outputs": [
        {
          "output_type": "stream",
          "name": "stdout",
          "text": [
            "* \n",
            "* * \n",
            "* * * \n",
            "* * * * \n",
            "* * * * * \n",
            "* * * * \n",
            "* * * \n",
            "* * \n",
            "* \n"
          ]
        }
      ]
    },
    {
      "cell_type": "code",
      "source": [
        "# pattern 18\n",
        "n=5\n",
        "for rows in range(1,n+1):\n",
        "  for cols in range(1,rows+1):\n",
        "    print(\"*\",end=\" \")\n",
        "  print()\n",
        "for rows in range(1,n):\n",
        "  for cols in range(1,n-rows+1):\n",
        "    print(\"*\",end=\" \")\n",
        "  print()"
      ],
      "metadata": {
        "colab": {
          "base_uri": "https://localhost:8080/"
        },
        "id": "Eiz50Gjzvuqj",
        "outputId": "3ccff513-169e-4efe-d5c3-36fa64a0b03e"
      },
      "execution_count": null,
      "outputs": [
        {
          "output_type": "stream",
          "name": "stdout",
          "text": [
            "* \n",
            "* * \n",
            "* * * \n",
            "* * * * \n",
            "* * * * * \n",
            "* * * * \n",
            "* * * \n",
            "* * \n",
            "* \n"
          ]
        }
      ]
    },
    {
      "cell_type": "code",
      "source": [
        "# pattern 19\n",
        "n=5\n",
        "# upper pattern\n",
        "for rows in range(1,n+1):\n",
        "  for spaces in range(1,n-rows+1):\n",
        "    print(\" \",end=\" \")\n",
        "  for cols in range(1,rows+1):\n",
        "    print(\"*\",end=\" \")\n",
        "  print()\n",
        "  # bottom pattern\n",
        "for rows in range(1,n):\n",
        "  for spaces in range(1,rows+1):\n",
        "        print(\" \",end=\" \")\n",
        "  for cols in range(1,n-rows+1):\n",
        "        print(\"*\",end=\" \")\n",
        "  print()"
      ],
      "metadata": {
        "colab": {
          "base_uri": "https://localhost:8080/"
        },
        "id": "w8ueVZwhwteV",
        "outputId": "f09684e8-0371-429f-f5f0-7a0925634e1c"
      },
      "execution_count": 1,
      "outputs": [
        {
          "output_type": "stream",
          "name": "stdout",
          "text": [
            "        * \n",
            "      * * \n",
            "    * * * \n",
            "  * * * * \n",
            "* * * * * \n",
            "  * * * * \n",
            "    * * * \n",
            "      * * \n",
            "        * \n"
          ]
        }
      ]
    },
    {
      "cell_type": "code",
      "source": [
        "# pattern 20\n",
        "# patterns\n",
        "n=3\n",
        "for rows in range(1,n+1):\n",
        "    for cols in range(1,n+1):\n",
        "        if rows==1 or rows== n or cols==1 or cols == n :\n",
        "          print(\"#\",end=\" \")\n",
        "        else:\n",
        "          print(\" \",end=\" \")\n",
        "    print()"
      ],
      "metadata": {
        "id": "oVwfp1iXzKM8",
        "colab": {
          "base_uri": "https://localhost:8080/"
        },
        "outputId": "c6a400a9-6542-468f-b712-760dfaddd557"
      },
      "execution_count": 15,
      "outputs": [
        {
          "output_type": "stream",
          "name": "stdout",
          "text": [
            "# # # \n",
            "#   # \n",
            "# # # \n"
          ]
        }
      ]
    },
    {
      "cell_type": "code",
      "source": [
        "# pattern 21\n",
        "n=int(input(\"enter the number:\"))\n",
        "for rows in range(1,n+1):\n",
        "  for cols in range(1,n+1):\n",
        "    if rows == 1 or rows == n or cols == 1 or cols == n:\n",
        "      print(\"*\",end=\" \")\n",
        "    else:\n",
        "      print(\" \",end=\" \")\n",
        "  print()"
      ],
      "metadata": {
        "colab": {
          "base_uri": "https://localhost:8080/"
        },
        "id": "F9amUhlX6D6W",
        "outputId": "88e4a1b9-963c-4e98-909b-928ecf9d5bb4"
      },
      "execution_count": 17,
      "outputs": [
        {
          "output_type": "stream",
          "name": "stdout",
          "text": [
            "enter the number:8\n",
            "* * * * * * * * \n",
            "*             * \n",
            "*             * \n",
            "*             * \n",
            "*             * \n",
            "*             * \n",
            "*             * \n",
            "* * * * * * * * \n"
          ]
        }
      ]
    },
    {
      "cell_type": "code",
      "source": [],
      "metadata": {
        "id": "9rUcoIsj73JM"
      },
      "execution_count": 55,
      "outputs": []
    }
  ]
}